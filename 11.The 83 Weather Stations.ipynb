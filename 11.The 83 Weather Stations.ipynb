{
 "cells": [
  {
   "cell_type": "markdown",
   "id": "5e3ac414",
   "metadata": {},
   "source": [
    "# Build the Weather Stations dataset"
   ]
  },
  {
   "cell_type": "code",
   "execution_count": 1,
   "id": "56908d02",
   "metadata": {},
   "outputs": [
    {
     "name": "stdout",
     "output_type": "stream",
     "text": [
      "Opening connection to database\n",
      "Add pythagore() function to SQLite engine\n",
      "Fraction of the dataset used to train models: 10.00%\n",
      "my_utils library loaded :-)\n"
     ]
    }
   ],
   "source": [
    "# Load my_utils.ipynb in Notebook\n",
    "from ipynb.fs.full.my_utils import *"
   ]
  },
  {
   "cell_type": "markdown",
   "id": "879e3587",
   "metadata": {},
   "source": [
    "Looking at the NYC Weather Dataset, I've found that it contains measures for a total of 83 weather stations around New-York City.\n",
    "\n",
    "Those weather stations are identified by their *NAME*, *STATION* (their id), *LATITUDE*, *LONGITUDE*, and *ELEVATION*\n",
    "\n",
    "Looking at the *weather* dataset, I've found that one of those 83 station does not have any value in *ELEVATION.\n"
   ]
  },
  {
   "cell_type": "code",
   "execution_count": 2,
   "id": "a5ee6321",
   "metadata": {},
   "outputs": [
    {
     "name": "stdout",
     "output_type": "stream",
     "text": [
      "Numer of stations without elevation:\n"
     ]
    },
    {
     "data": {
      "text/html": [
       "<div>\n",
       "<style scoped>\n",
       "    .dataframe tbody tr th:only-of-type {\n",
       "        vertical-align: middle;\n",
       "    }\n",
       "\n",
       "    .dataframe tbody tr th {\n",
       "        vertical-align: top;\n",
       "    }\n",
       "\n",
       "    .dataframe thead th {\n",
       "        text-align: right;\n",
       "    }\n",
       "</style>\n",
       "<table border=\"1\" class=\"dataframe\">\n",
       "  <thead>\n",
       "    <tr style=\"text-align: right;\">\n",
       "      <th></th>\n",
       "      <th>STATION</th>\n",
       "      <th>NAME</th>\n",
       "      <th>LATITUDE</th>\n",
       "      <th>LONGITUDE</th>\n",
       "      <th>ELEVATION</th>\n",
       "    </tr>\n",
       "  </thead>\n",
       "  <tbody>\n",
       "    <tr>\n",
       "      <th>2791</th>\n",
       "      <td>US1NJES0020</td>\n",
       "      <td>BLOOMFIELD 1.7 S, NJ US</td>\n",
       "      <td>40.785</td>\n",
       "      <td>-74.1885</td>\n",
       "      <td>NaN</td>\n",
       "    </tr>\n",
       "  </tbody>\n",
       "</table>\n",
       "</div>"
      ],
      "text/plain": [
       "          STATION                     NAME  LATITUDE  LONGITUDE  ELEVATION\n",
       "2791  US1NJES0020  BLOOMFIELD 1.7 S, NJ US    40.785   -74.1885        NaN"
      ]
     },
     "execution_count": 2,
     "metadata": {},
     "output_type": "execute_result"
    }
   ],
   "source": [
    "# Load 'weather' dataset, limit column to station, name, latitude, longitude and elevation\n",
    "nyc_stations=load_csv('weather')[['STATION', 'NAME', 'LATITUDE', 'LONGITUDE', 'ELEVATION']]\n",
    "\n",
    "# Remove line with empty elevations (this column is not always filled in)\n",
    "print(\"Numer of stations without elevation:\")\n",
    "nyc_stations[nyc_stations.ELEVATION.isna()].drop_duplicates()\n"
   ]
  },
  {
   "cell_type": "markdown",
   "id": "8cd4066b",
   "metadata": {},
   "source": [
    "To solve this, I've search on [Elevation Finder](https://www.freemaptools.com/elevation-finder.htm) website the value I should use in this missing *ELEVATION* feature. This gives me 40 meters for latitude 40.785 and longitude -741885.\n",
    "\n",
    "Let's use the *fillna()* method on the *ELEVATION* columns to replace NaN values (which again are related to only one of the weather station) with the value *40*\n",
    "\n",
    "> Note: Prior to the *fillna()* method call, I will drop duplicates from the dataset. The interesting thing here is to build a dataset with the weather stations static dataset."
   ]
  },
  {
   "cell_type": "code",
   "execution_count": 3,
   "id": "02033a00",
   "metadata": {},
   "outputs": [
    {
     "name": "stdout",
     "output_type": "stream",
     "text": [
      "List of stations without elevation: 0\n"
     ]
    }
   ],
   "source": [
    "US1NJES0020_ELEVATION=40\n",
    "\n",
    "# Drop duplicates from nyc_stations dataset\n",
    "nyc_stations.drop_duplicates(inplace=True)\n",
    "\n",
    "# fillna() values in ELEVATION with 40 (the missing elevation value)\n",
    "nyc_stations['ELEVATION']=nyc_stations['ELEVATION'].fillna(US1NJES0020_ELEVATION)\n",
    "print(\"List of stations without elevation:\",nyc_stations[nyc_stations.ELEVATION.isna()]['STATION'].count())\n"
   ]
  },
  {
   "cell_type": "markdown",
   "id": "9680e73c",
   "metadata": {},
   "source": [
    "Now that our stations static dataset is cleaned, let's save it in our SQLite database, it will be usefull when we will need to reuse it.\n",
    "\n",
    "> Note 1: now that this data will be made available in our database, I've added a new function in *my_utils* library: *get_stations()* which returns the *weather_stations* dataset stored in the Database.\n"
   ]
  },
  {
   "cell_type": "code",
   "execution_count": 4,
   "id": "22cad5e5",
   "metadata": {},
   "outputs": [
    {
     "name": "stdout",
     "output_type": "stream",
     "text": [
      "Table name used to save this dataset: stations\n"
     ]
    }
   ],
   "source": [
    "# Verify SQL tablename is defined in my_utils library\n",
    "print(\"Table name used to save this dataset:\", STATION_TABLENAME)"
   ]
  },
  {
   "cell_type": "code",
   "execution_count": 5,
   "id": "2f3b14ad",
   "metadata": {},
   "outputs": [
    {
     "name": "stdout",
     "output_type": "stream",
     "text": [
      "Saving OK\n"
     ]
    },
    {
     "data": {
      "text/plain": [
       "True"
      ]
     },
     "execution_count": 5,
     "metadata": {},
     "output_type": "execute_result"
    }
   ],
   "source": [
    "# Save weather station dataset to SQL Database \n",
    "save_sql(nyc_stations, STATION_TABLENAME)"
   ]
  },
  {
   "cell_type": "code",
   "execution_count": 6,
   "id": "76d34970",
   "metadata": {},
   "outputs": [
    {
     "name": "stdout",
     "output_type": "stream",
     "text": [
      "Query: SELECT * FROM stations\n"
     ]
    },
    {
     "data": {
      "text/html": [
       "<div>\n",
       "<style scoped>\n",
       "    .dataframe tbody tr th:only-of-type {\n",
       "        vertical-align: middle;\n",
       "    }\n",
       "\n",
       "    .dataframe tbody tr th {\n",
       "        vertical-align: top;\n",
       "    }\n",
       "\n",
       "    .dataframe thead th {\n",
       "        text-align: right;\n",
       "    }\n",
       "</style>\n",
       "<table border=\"1\" class=\"dataframe\">\n",
       "  <thead>\n",
       "    <tr style=\"text-align: right;\">\n",
       "      <th></th>\n",
       "      <th>LATITUDE</th>\n",
       "      <th>LONGITUDE</th>\n",
       "      <th>ELEVATION</th>\n",
       "    </tr>\n",
       "  </thead>\n",
       "  <tbody>\n",
       "    <tr>\n",
       "      <th>count</th>\n",
       "      <td>83.000000</td>\n",
       "      <td>83.000000</td>\n",
       "      <td>83.000000</td>\n",
       "    </tr>\n",
       "    <tr>\n",
       "      <th>mean</th>\n",
       "      <td>40.758148</td>\n",
       "      <td>-74.122859</td>\n",
       "      <td>47.293976</td>\n",
       "    </tr>\n",
       "    <tr>\n",
       "      <th>std</th>\n",
       "      <td>0.207156</td>\n",
       "      <td>0.277533</td>\n",
       "      <td>44.306354</td>\n",
       "    </tr>\n",
       "    <tr>\n",
       "      <th>min</th>\n",
       "      <td>40.275368</td>\n",
       "      <td>-74.482746</td>\n",
       "      <td>2.100000</td>\n",
       "    </tr>\n",
       "    <tr>\n",
       "      <th>25%</th>\n",
       "      <td>40.656987</td>\n",
       "      <td>-74.316848</td>\n",
       "      <td>16.500000</td>\n",
       "    </tr>\n",
       "    <tr>\n",
       "      <th>50%</th>\n",
       "      <td>40.772892</td>\n",
       "      <td>-74.192680</td>\n",
       "      <td>28.000000</td>\n",
       "    </tr>\n",
       "    <tr>\n",
       "      <th>75%</th>\n",
       "      <td>40.906158</td>\n",
       "      <td>-74.000878</td>\n",
       "      <td>71.750000</td>\n",
       "    </tr>\n",
       "    <tr>\n",
       "      <th>max</th>\n",
       "      <td>41.083546</td>\n",
       "      <td>-73.373090</td>\n",
       "      <td>188.700000</td>\n",
       "    </tr>\n",
       "  </tbody>\n",
       "</table>\n",
       "</div>"
      ],
      "text/plain": [
       "        LATITUDE  LONGITUDE   ELEVATION\n",
       "count  83.000000  83.000000   83.000000\n",
       "mean   40.758148 -74.122859   47.293976\n",
       "std     0.207156   0.277533   44.306354\n",
       "min    40.275368 -74.482746    2.100000\n",
       "25%    40.656987 -74.316848   16.500000\n",
       "50%    40.772892 -74.192680   28.000000\n",
       "75%    40.906158 -74.000878   71.750000\n",
       "max    41.083546 -73.373090  188.700000"
      ]
     },
     "execution_count": 6,
     "metadata": {},
     "output_type": "execute_result"
    }
   ],
   "source": [
    "# Display stations dataset information to validate that\n",
    "# it contains data for the 83 stations, data taken from SQL Database\n",
    "stations=load_sql(STATION_TABLENAME)\n",
    "stations.describe()"
   ]
  },
  {
   "cell_type": "markdown",
   "id": "2c13b0fa",
   "metadata": {},
   "source": [
    "# A bit of fun :-)\n",
    "\n",
    "What about trying to draw the weather stations locations on a New-York City map ?\n",
    "\n",
    "I'll use the *draw_nyc_map()* function from *my_utils* library to draw the NYC map. This drawing function accept latitude and longitude datapoints to be plotted on the map."
   ]
  },
  {
   "cell_type": "code",
   "execution_count": 7,
   "id": "c600af06",
   "metadata": {},
   "outputs": [
    {
     "data": {
      "image/png": "[encoded data removed]",
      "text/plain": [
       "<Figure size 720x720 with 1 Axes>"
      ]
     },
     "metadata": {
      "needs_background": "light"
     },
     "output_type": "display_data"
    }
   ],
   "source": [
    "# Draw NYC map with weather stations\n",
    "draw_nyc_map(latitude=stations['LATITUDE'], longitude=stations['LONGITUDE'])\n"
   ]
  },
  {
   "cell_type": "markdown",
   "id": "80dc6a35",
   "metadata": {},
   "source": [
    "# That's it\n",
    "\n",
    "Even if this Notebooks is very short, it let me build a dataset of static weather stations features.\n",
    "\n",
    "Let's follow up with the next notebook: [NYC Taxi Travel Data Preparation](12.NYC%20Taxi%20Travel%20Data%20Preparation.ipynb)"
   ]
  }
 ],
 "metadata": {
  "kernelspec": {
   "display_name": "Python 3",
   "language": "python",
   "name": "python3"
  },
  "language_info": {
   "codemirror_mode": {
    "name": "ipython",
    "version": 3
   },
   "file_extension": ".py",
   "mimetype": "text/x-python",
   "name": "python",
   "nbconvert_exporter": "python",
   "pygments_lexer": "ipython3",
   "version": "3.6.13"
  }
 },
 "nbformat": 4,
 "nbformat_minor": 5
}
