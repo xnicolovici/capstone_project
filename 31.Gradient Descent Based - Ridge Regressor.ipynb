{
 "cells": [
  {
   "cell_type": "markdown",
   "id": "b8a97ca4",
   "metadata": {},
   "source": [
    "Let's start with our first Machine Learning Model: [sklearn.linear_model.Ridge](https://scikit-learn.org/stable/modules/generated/sklearn.linear_model.Ridge.html)\n",
    "\n",
    "This model is a Gradient Descent one, which implies that I should use a scaler to normalize my dataset before fitting the model.\n",
    "\n",
    "I've choosen to tune two of its parameters:\n",
    "\n",
    "- The regularization strenght alpha, a float number\n",
    "\n",
    "- The solver, to be choosen from a list provided by the Ridge model\n",
    "\n",
    "Let's start by loading [my_utils](my_utils.ipynb) and other usefull libraries."
   ]
  },
  {
   "cell_type": "code",
   "execution_count": 1,
   "id": "a5e0fe1e",
   "metadata": {},
   "outputs": [
    {
     "name": "stdout",
     "output_type": "stream",
     "text": [
      "Opening connection to database\n",
      "Add pythagore() function to SQLite engine\n",
      "Fraction of the dataset used to train models: 10.00%\n",
      "my_utils library loaded :-)\n"
     ]
    }
   ],
   "source": [
    "# Load my_utils.ipynb in Notebook\n",
    "from ipynb.fs.full.my_utils import *"
   ]
  },
  {
   "cell_type": "code",
   "execution_count": 2,
   "id": "bf74b82a",
   "metadata": {},
   "outputs": [],
   "source": [
    "# Scalers\n",
    "from sklearn.preprocessing import MinMaxScaler\n",
    "from sklearn.preprocessing import StandardScaler\n",
    "from sklearn.preprocessing import RobustScaler\n",
    "\n",
    "# PCA\n",
    "from sklearn.decomposition import PCA\n",
    "\n",
    "# Grid Search\n",
    "from sklearn.model_selection import RandomizedSearchCV\n",
    "from sklearn.model_selection import GridSearchCV\n",
    "from sklearn.pipeline import Pipeline\n",
    "\n",
    "# Ridge Model\n",
    "from sklearn.linear_model import Ridge"
   ]
  },
  {
   "cell_type": "markdown",
   "id": "a87ea804",
   "metadata": {},
   "source": [
    "# Load train/valid data\n",
    "\n",
    "Nothing special here, use the *loadXy()* function to load train/valid X and y datasets"
   ]
  },
  {
   "cell_type": "code",
   "execution_count": 3,
   "id": "9efaf21b",
   "metadata": {},
   "outputs": [],
   "source": [
    "# Load X and y\n",
    "X_tr, y_tr, X_va, y_va=load_Xy(frac=FRAC_VALUE_FOR_ML)\n"
   ]
  },
  {
   "cell_type": "markdown",
   "id": "5e0dd709",
   "metadata": {},
   "source": [
    "# Pipeline and Grid Search\n",
    "\n",
    "As explained in the previous [notebook](30.Machine%20Learning%20Models.ipynb), I will train my model using a Grid Search approach in combination with the Pipeline object.\n",
    "\n",
    "Pipeline will include the following step:\n",
    "\n",
    "- scaler, to scale the dataset if required by the model\n",
    "\n",
    "- pca, to apply feature dimension reduction using PCA()\n",
    "\n",
    "- model, the model to train\n",
    "\n",
    "I'll do first a randomized search using as much parameters values as possible and, based on the result obtained, run a GridSearchCV with the best parameter intervals found with the randomized process.\n"
   ]
  },
  {
   "cell_type": "markdown",
   "id": "9c516b6f",
   "metadata": {},
   "source": [
    "## Define pipeline and grid parameters\n",
    "\n",
    "Scaler and PCA will be configured in the Pipeline and manage as grid parameters:\n",
    "\n",
    "### Scaler\n",
    "\n",
    "- StandardScaler()\n",
    "\n",
    "- MinMaxScaler()\n",
    "\n",
    "- RobustScaler()\n",
    "\n",
    "> Note: Scaler selection is inspired from that article: [All about Feature Scaling](https://towardsdatascience.com/all-about-feature-scaling-bcc0ad75cb35)\n",
    "\n",
    "### PCA\n",
    "\n",
    "- PCA(0.8)\n",
    "\n",
    "- PCA(0.9)\n",
    "\n",
    "- PCA(0.95)\n",
    "\n",
    "For both PCA and Scaler, the pipeline will be configured to let the search process disable them (setting *None* as grid parameter), even if it's recommended to scale data when using *Gradient Descent* model types."
   ]
  },
  {
   "cell_type": "code",
   "execution_count": 4,
   "id": "03439930",
   "metadata": {},
   "outputs": [],
   "source": [
    "# Define list of scaler used in grid search\n",
    "scalers=[StandardScaler(), MinMaxScaler(), RobustScaler(), None]\n",
    "\n",
    "# Define list of PCA reduction used in grid search\n",
    "pcas=[PCA(0.8), PCA(0.9), PCA(0.95), None]"
   ]
  },
  {
   "cell_type": "code",
   "execution_count": 5,
   "id": "2fd3d6a4",
   "metadata": {},
   "outputs": [],
   "source": [
    "# Initialize Ridge ML model\n",
    "model = Ridge()\n",
    "\n",
    "# Define pipeline with scaler, pca and model choosen\n",
    "pipe = Pipeline(steps=[\n",
    "    (\"scaler\", StandardScaler()),\n",
    "    (\"pca\", PCA()),\n",
    "    (\"model\", model),\n",
    "])\n",
    "\n",
    "# Define base grid search parameters\n",
    "param_grid = {\n",
    "    \"scaler\": scalers,\n",
    "    \"pca\": pcas\n",
    "}\n",
    "\n"
   ]
  },
  {
   "cell_type": "markdown",
   "id": "9950ee7f",
   "metadata": {},
   "source": [
    "## RandomizedSearchCV with large parameters scope\n",
    "\n",
    "I will start with a *RandomizedSearchCV* on a very large scope of parameters, setting the iterations number to 100. My objective is to find out which hyperparameters and their interval works better to refine search later on using *GridSearchCV*.\n",
    "\n",
    "> Note: Instead of using the default scoring function of the *GridSearchCV* class, I will use the one I've defined in [my_utils](my_utils.ipynb) library based on *Mean Absolute Percentage Error*.\n"
   ]
  },
  {
   "cell_type": "code",
   "execution_count": 6,
   "id": "f11c3b59",
   "metadata": {},
   "outputs": [
    {
     "name": "stdout",
     "output_type": "stream",
     "text": [
      "Fitting 5 folds for each of 100 candidates, totalling 500 fits\n"
     ]
    },
    {
     "name": "stderr",
     "output_type": "stream",
     "text": [
      "[Parallel(n_jobs=-1)]: Using backend LokyBackend with 8 concurrent workers.\n",
      "[Parallel(n_jobs=-1)]: Done  34 tasks      | elapsed:   14.9s\n",
      "[Parallel(n_jobs=-1)]: Done 184 tasks      | elapsed:  1.4min\n",
      "[Parallel(n_jobs=-1)]: Done 434 tasks      | elapsed:  3.4min\n",
      "[Parallel(n_jobs=-1)]: Done 500 out of 500 | elapsed:  3.8min finished\n"
     ]
    },
    {
     "data": {
      "text/plain": [
       "RandomizedSearchCV(cv=5, error_score='raise-deprecating',\n",
       "          estimator=Pipeline(memory=None,\n",
       "     steps=[('scaler', StandardScaler(copy=True, with_mean=True, with_std=True)), ('pca', PCA(copy=True, iterated_power='auto', n_components=None, random_state=None,\n",
       "  svd_solver='auto', tol=0.0, whiten=False)), ('model', Ridge(alpha=1.0, copy_X=True, fit_intercept=True, max_iter=None,\n",
       "   normalize=False, random_state=None, solver='auto', tol=0.001))]),\n",
       "          fit_params=None, iid='warn', n_iter=100, n_jobs=-1,\n",
       "          param_distributions={'scaler': [StandardScaler(copy=True, with_mean=True, with_std=True), MinMaxScaler(copy=True, feature_range=(0, 1)), RobustScaler(copy=True, quantile_range=(25.0, 75.0), with_centering=True,\n",
       "       with_scaling=True), None], 'pca': [PCA(copy=True, iterated_power='auto', n_compone....02643e+14, 1.00000e+15]), 'model__solver': ['svd', 'cholesky', 'lsqr', 'sparse_cg', 'sag', 'saga']},\n",
       "          pre_dispatch='2*n_jobs', random_state=47, refit=True,\n",
       "          return_train_score=True, scoring=make_scorer(mape), verbose=1)"
      ]
     },
     "execution_count": 6,
     "metadata": {},
     "output_type": "execute_result"
    }
   ],
   "source": [
    "# Set specific model parameters to param_grid\n",
    "param_grid[\"model__alpha\"]=np.logspace(-4, 15, 200)\n",
    "param_grid[\"model__solver\"]=['svd', 'cholesky', 'lsqr', 'sparse_cg', 'sag', 'saga']\n",
    "\n",
    "# Number of random search iterations (the more the slower ;-) )\n",
    "ITERATIONS=100\n",
    "\n",
    "# Initialize RandomizedSearchCV object. Note that return_train_score=True\n",
    "random_search = RandomizedSearchCV(pipe, param_grid, scoring=custom_scorer, random_state=RANDOM_STATE,\n",
    "                                   n_iter=ITERATIONS, n_jobs=-1, cv=5, verbose=1, return_train_score=True)\n",
    "\n",
    "# Do the random hyperparameter tuning search\n",
    "random_search.fit(X_tr, y_tr)\n"
   ]
  },
  {
   "cell_type": "markdown",
   "id": "07b74e6f",
   "metadata": {},
   "source": [
    "### Results\n",
    "\n",
    "Ok, randomized search will now help me to determine wich parameters I should use for best results.\n",
    "\n",
    "The following code will display as a *pd.DataFrame* the result, sorted by *mean_test_score*, the score obtained with the test set (test set has been made by the *RandomSearchCV* class using a *KFold* approach)."
   ]
  },
  {
   "cell_type": "code",
   "execution_count": 7,
   "id": "2704dae3",
   "metadata": {},
   "outputs": [
    {
     "name": "stdout",
     "output_type": "stream",
     "text": [
      "Best parameters found: {'scaler': StandardScaler(copy=True, with_mean=True, with_std=True), 'pca': None, 'model__solver': 'saga', 'model__alpha': 0.0003739937302478798}\n",
      "10 best results:\n"
     ]
    },
    {
     "data": {
      "text/html": [
       "<div>\n",
       "<style scoped>\n",
       "    .dataframe tbody tr th:only-of-type {\n",
       "        vertical-align: middle;\n",
       "    }\n",
       "\n",
       "    .dataframe tbody tr th {\n",
       "        vertical-align: top;\n",
       "    }\n",
       "\n",
       "    .dataframe thead th {\n",
       "        text-align: right;\n",
       "    }\n",
       "</style>\n",
       "<table border=\"1\" class=\"dataframe\">\n",
       "  <thead>\n",
       "    <tr style=\"text-align: right;\">\n",
       "      <th></th>\n",
       "      <th>param_scaler</th>\n",
       "      <th>param_pca</th>\n",
       "      <th>param_model__alpha</th>\n",
       "      <th>param_model__solver</th>\n",
       "      <th>mean_test_score</th>\n",
       "      <th>std_test_score</th>\n",
       "      <th>mean_train_score</th>\n",
       "      <th>std_train_score</th>\n",
       "    </tr>\n",
       "  </thead>\n",
       "  <tbody>\n",
       "    <tr>\n",
       "      <th>51</th>\n",
       "      <td>StandardScaler(copy=True, with_mean=True, with...</td>\n",
       "      <td>None</td>\n",
       "      <td>0.000373994</td>\n",
       "      <td>saga</td>\n",
       "      <td>87.802608</td>\n",
       "      <td>0.049827</td>\n",
       "      <td>87.807794</td>\n",
       "      <td>0.011967</td>\n",
       "    </tr>\n",
       "    <tr>\n",
       "      <th>65</th>\n",
       "      <td>None</td>\n",
       "      <td>None</td>\n",
       "      <td>0.0471375</td>\n",
       "      <td>cholesky</td>\n",
       "      <td>87.802574</td>\n",
       "      <td>0.049867</td>\n",
       "      <td>87.807779</td>\n",
       "      <td>0.011961</td>\n",
       "    </tr>\n",
       "    <tr>\n",
       "      <th>21</th>\n",
       "      <td>RobustScaler(copy=True, quantile_range=(25.0, ...</td>\n",
       "      <td>None</td>\n",
       "      <td>5.94113</td>\n",
       "      <td>lsqr</td>\n",
       "      <td>87.802567</td>\n",
       "      <td>0.048638</td>\n",
       "      <td>87.807863</td>\n",
       "      <td>0.011794</td>\n",
       "    </tr>\n",
       "    <tr>\n",
       "      <th>86</th>\n",
       "      <td>MinMaxScaler(copy=True, feature_range=(0, 1))</td>\n",
       "      <td>None</td>\n",
       "      <td>0.000465953</td>\n",
       "      <td>sparse_cg</td>\n",
       "      <td>87.802476</td>\n",
       "      <td>0.050082</td>\n",
       "      <td>87.807621</td>\n",
       "      <td>0.011915</td>\n",
       "    </tr>\n",
       "    <tr>\n",
       "      <th>44</th>\n",
       "      <td>StandardScaler(copy=True, with_mean=True, with...</td>\n",
       "      <td>None</td>\n",
       "      <td>5.94113</td>\n",
       "      <td>lsqr</td>\n",
       "      <td>87.801730</td>\n",
       "      <td>0.049668</td>\n",
       "      <td>87.806981</td>\n",
       "      <td>0.011957</td>\n",
       "    </tr>\n",
       "    <tr>\n",
       "      <th>7</th>\n",
       "      <td>MinMaxScaler(copy=True, feature_range=(0, 1))</td>\n",
       "      <td>None</td>\n",
       "      <td>0.0471375</td>\n",
       "      <td>lsqr</td>\n",
       "      <td>87.795993</td>\n",
       "      <td>0.051412</td>\n",
       "      <td>87.801157</td>\n",
       "      <td>0.013136</td>\n",
       "    </tr>\n",
       "    <tr>\n",
       "      <th>40</th>\n",
       "      <td>MinMaxScaler(copy=True, feature_range=(0, 1))</td>\n",
       "      <td>None</td>\n",
       "      <td>17.8343</td>\n",
       "      <td>lsqr</td>\n",
       "      <td>87.794566</td>\n",
       "      <td>0.053687</td>\n",
       "      <td>87.799967</td>\n",
       "      <td>0.011835</td>\n",
       "    </tr>\n",
       "    <tr>\n",
       "      <th>22</th>\n",
       "      <td>None</td>\n",
       "      <td>None</td>\n",
       "      <td>1.58857</td>\n",
       "      <td>saga</td>\n",
       "      <td>87.792082</td>\n",
       "      <td>0.056615</td>\n",
       "      <td>87.796927</td>\n",
       "      <td>0.012579</td>\n",
       "    </tr>\n",
       "    <tr>\n",
       "      <th>96</th>\n",
       "      <td>StandardScaler(copy=True, with_mean=True, with...</td>\n",
       "      <td>None</td>\n",
       "      <td>5415.87</td>\n",
       "      <td>saga</td>\n",
       "      <td>87.786525</td>\n",
       "      <td>0.047088</td>\n",
       "      <td>87.791230</td>\n",
       "      <td>0.011854</td>\n",
       "    </tr>\n",
       "    <tr>\n",
       "      <th>89</th>\n",
       "      <td>RobustScaler(copy=True, quantile_range=(25.0, ...</td>\n",
       "      <td>None</td>\n",
       "      <td>2800.5</td>\n",
       "      <td>sag</td>\n",
       "      <td>87.744943</td>\n",
       "      <td>0.046490</td>\n",
       "      <td>87.749055</td>\n",
       "      <td>0.011978</td>\n",
       "    </tr>\n",
       "  </tbody>\n",
       "</table>\n",
       "</div>"
      ],
      "text/plain": [
       "                                         param_scaler param_pca param_model__alpha  \\\n",
       "51  StandardScaler(copy=True, with_mean=True, with...      None        0.000373994   \n",
       "65                                               None      None          0.0471375   \n",
       "21  RobustScaler(copy=True, quantile_range=(25.0, ...      None            5.94113   \n",
       "86      MinMaxScaler(copy=True, feature_range=(0, 1))      None        0.000465953   \n",
       "44  StandardScaler(copy=True, with_mean=True, with...      None            5.94113   \n",
       "7       MinMaxScaler(copy=True, feature_range=(0, 1))      None          0.0471375   \n",
       "40      MinMaxScaler(copy=True, feature_range=(0, 1))      None            17.8343   \n",
       "22                                               None      None            1.58857   \n",
       "96  StandardScaler(copy=True, with_mean=True, with...      None            5415.87   \n",
       "89  RobustScaler(copy=True, quantile_range=(25.0, ...      None             2800.5   \n",
       "\n",
       "   param_model__solver  mean_test_score  std_test_score  mean_train_score  std_train_score  \n",
       "51                saga        87.802608        0.049827         87.807794         0.011967  \n",
       "65            cholesky        87.802574        0.049867         87.807779         0.011961  \n",
       "21                lsqr        87.802567        0.048638         87.807863         0.011794  \n",
       "86           sparse_cg        87.802476        0.050082         87.807621         0.011915  \n",
       "44                lsqr        87.801730        0.049668         87.806981         0.011957  \n",
       "7                 lsqr        87.795993        0.051412         87.801157         0.013136  \n",
       "40                lsqr        87.794566        0.053687         87.799967         0.011835  \n",
       "22                saga        87.792082        0.056615         87.796927         0.012579  \n",
       "96                saga        87.786525        0.047088         87.791230         0.011854  \n",
       "89                 sag        87.744943        0.046490         87.749055         0.011978  "
      ]
     },
     "execution_count": 7,
     "metadata": {},
     "output_type": "execute_result"
    }
   ],
   "source": [
    "# Build a dataframe from search.cv_results_\n",
    "random_df=pd.DataFrame(random_search.cv_results_)\n",
    "\n",
    "# Restrict to interesting columns\n",
    "cols = [f'param_{key}' for key in param_grid.keys()]\n",
    "cols+=['mean_test_score', 'std_test_score', 'mean_train_score', 'std_train_score']\n",
    "random_df=random_df[cols]\n",
    "\n",
    "# Print result\n",
    "print(\"Best parameters found:\", random_search.best_params_)\n",
    "print(\"10 best results:\")\n",
    "random_df.sort_values('mean_test_score', ascending=False).head(10)\n",
    "\n"
   ]
  },
  {
   "cell_type": "markdown",
   "id": "23d92b8b",
   "metadata": {},
   "source": [
    "### What can I do according to the above results ?\n",
    "\n",
    "Well, decide which parameters I should keep and wich value I should give to them for the next Grid Search (without randomized approach)\n",
    "\n",
    "- PCA\n",
    "\n",
    "Top most results have been obtained without any PCA reduction, I will remove this feature reduction from the next grid search.\n",
    "\n",
    "- Scaler\n",
    "\n",
    "Regarding the scaler, *RobustScaler()*, *MinMaxScaler()* and *StandardScaler()* seems to perform equally, they are in the top most performer results.\n",
    "\n",
    "There's one noticeable thing in this grid search result. One of the best performer is obtained without any scaler, certainly because the work done previously to normalize the dataset helps models in their training process. But looking at the *alpha* value used to perform without scaler, $4.10^{-2}$, lead me to ignore that result and prefer another result.\n",
    "\n",
    "Same remark with *StandardScaler()* and *MinMaxScaler()*, their best results implies very low *alpha* values.\n",
    "\n",
    "For that reason, I would prefer to choose the *RobustScaler()* which has it's best performance combination using an alpha value of 5.95\n",
    "\n",
    "- Alpha\n",
    "\n",
    "According to the choices made on the scaler, optimal value would be around *alpha=6*. I'll set the *alpha* search parameter to a range from $10^{-1}$ to $10^3$ to obtain a nice curve.\n",
    "\n",
    "- What about solver ?\n",
    "\n",
    "Difficult to say which solver performs best. Let's use the *lsqr*, the one that performs best with my scaler *RoubustScaler()* choice.\n"
   ]
  },
  {
   "cell_type": "markdown",
   "id": "55c4542b",
   "metadata": {},
   "source": [
    "## GridSearchCV on more precise parameter intervals\n",
    "\n",
    "Build and run a *GridSearchCV* with reduced parameter scope, fixing scaler to *RobustScaler()*, PCA to *None* and solver to *lsqr*"
   ]
  },
  {
   "cell_type": "code",
   "execution_count": 8,
   "id": "524eef13",
   "metadata": {},
   "outputs": [
    {
     "name": "stdout",
     "output_type": "stream",
     "text": [
      "Fitting 5 folds for each of 100 candidates, totalling 500 fits\n"
     ]
    },
    {
     "name": "stderr",
     "output_type": "stream",
     "text": [
      "[Parallel(n_jobs=-1)]: Using backend LokyBackend with 8 concurrent workers.\n",
      "[Parallel(n_jobs=-1)]: Done  34 tasks      | elapsed:   11.0s\n",
      "[Parallel(n_jobs=-1)]: Done 184 tasks      | elapsed:   55.3s\n",
      "[Parallel(n_jobs=-1)]: Done 434 tasks      | elapsed:  2.2min\n",
      "[Parallel(n_jobs=-1)]: Done 500 out of 500 | elapsed:  2.5min finished\n"
     ]
    },
    {
     "data": {
      "text/plain": [
       "GridSearchCV(cv=5, error_score='raise-deprecating',\n",
       "       estimator=Pipeline(memory=None,\n",
       "     steps=[('scaler', StandardScaler(copy=True, with_mean=True, with_std=True)), ('pca', PCA(copy=True, iterated_power='auto', n_components=None, random_state=None,\n",
       "  svd_solver='auto', tol=0.0, whiten=False)), ('model', Ridge(alpha=1.0, copy_X=True, fit_intercept=True, max_iter=None,\n",
       "   normalize=False, random_state=None, solver='auto', tol=0.001))]),\n",
       "       fit_params=None, iid='warn', n_jobs=-1,\n",
       "       param_grid={'scaler': [RobustScaler(copy=True, quantile_range=(25.0, 75.0), with_centering=True,\n",
       "       with_scaling=True)], 'pca': [None], 'model__alpha': array([1.00000e-01, 1.12332e-01, ..., 8.90215e+03, 1.00000e+04]), 'model__solver': ['lsqr']},\n",
       "       pre_dispatch='2*n_jobs', refit=True, return_train_score=True,\n",
       "       scoring=make_scorer(mape), verbose=1)"
      ]
     },
     "execution_count": 8,
     "metadata": {},
     "output_type": "execute_result"
    }
   ],
   "source": [
    "# Set specific model parameters to param_grid\n",
    "param_grid[\"model__alpha\"]=np.logspace(-1, 4, 100)\n",
    "param_grid[\"model__solver\"]=['lsqr']\n",
    "param_grid['scaler']=[RobustScaler()]\n",
    "param_grid['pca']=[None]\n",
    "\n",
    "\n",
    "# Initialize GridSearchCV object. Note that return_train_score=True\n",
    "grid_search = GridSearchCV(pipe, param_grid, scoring=custom_scorer, n_jobs=-1, cv=5, verbose=1, return_train_score=True)\n",
    "\n",
    "# Do the grid search\n",
    "grid_search.fit(X_tr, y_tr)\n"
   ]
  },
  {
   "cell_type": "markdown",
   "id": "8a15b69d",
   "metadata": {},
   "source": [
    "### Results"
   ]
  },
  {
   "cell_type": "code",
   "execution_count": 9,
   "id": "c91cc4f0",
   "metadata": {},
   "outputs": [
    {
     "name": "stdout",
     "output_type": "stream",
     "text": [
      "Best parameters found: {'model__alpha': 23.644894126454073, 'model__solver': 'lsqr', 'pca': None, 'scaler': RobustScaler(copy=True, quantile_range=(25.0, 75.0), with_centering=True,\n",
      "       with_scaling=True)}\n",
      "10 best results:\n"
     ]
    },
    {
     "data": {
      "text/html": [
       "<div>\n",
       "<style scoped>\n",
       "    .dataframe tbody tr th:only-of-type {\n",
       "        vertical-align: middle;\n",
       "    }\n",
       "\n",
       "    .dataframe tbody tr th {\n",
       "        vertical-align: top;\n",
       "    }\n",
       "\n",
       "    .dataframe thead th {\n",
       "        text-align: right;\n",
       "    }\n",
       "</style>\n",
       "<table border=\"1\" class=\"dataframe\">\n",
       "  <thead>\n",
       "    <tr style=\"text-align: right;\">\n",
       "      <th></th>\n",
       "      <th>param_scaler</th>\n",
       "      <th>param_pca</th>\n",
       "      <th>param_model__alpha</th>\n",
       "      <th>param_model__solver</th>\n",
       "      <th>mean_test_score</th>\n",
       "      <th>std_test_score</th>\n",
       "      <th>mean_train_score</th>\n",
       "      <th>std_train_score</th>\n",
       "    </tr>\n",
       "  </thead>\n",
       "  <tbody>\n",
       "    <tr>\n",
       "      <th>47</th>\n",
       "      <td>RobustScaler(copy=True, quantile_range=(25.0, ...</td>\n",
       "      <td>None</td>\n",
       "      <td>23.6449</td>\n",
       "      <td>lsqr</td>\n",
       "      <td>87.802579</td>\n",
       "      <td>0.048563</td>\n",
       "      <td>87.807859</td>\n",
       "      <td>0.011804</td>\n",
       "    </tr>\n",
       "    <tr>\n",
       "      <th>48</th>\n",
       "      <td>RobustScaler(copy=True, quantile_range=(25.0, ...</td>\n",
       "      <td>None</td>\n",
       "      <td>26.5609</td>\n",
       "      <td>lsqr</td>\n",
       "      <td>87.802579</td>\n",
       "      <td>0.048552</td>\n",
       "      <td>87.807856</td>\n",
       "      <td>0.011805</td>\n",
       "    </tr>\n",
       "    <tr>\n",
       "      <th>46</th>\n",
       "      <td>RobustScaler(copy=True, quantile_range=(25.0, ...</td>\n",
       "      <td>None</td>\n",
       "      <td>21.049</td>\n",
       "      <td>lsqr</td>\n",
       "      <td>87.802579</td>\n",
       "      <td>0.048574</td>\n",
       "      <td>87.807861</td>\n",
       "      <td>0.011802</td>\n",
       "    </tr>\n",
       "    <tr>\n",
       "      <th>49</th>\n",
       "      <td>RobustScaler(copy=True, quantile_range=(25.0, ...</td>\n",
       "      <td>None</td>\n",
       "      <td>29.8365</td>\n",
       "      <td>lsqr</td>\n",
       "      <td>87.802578</td>\n",
       "      <td>0.048538</td>\n",
       "      <td>87.807853</td>\n",
       "      <td>0.011807</td>\n",
       "    </tr>\n",
       "    <tr>\n",
       "      <th>45</th>\n",
       "      <td>RobustScaler(copy=True, quantile_range=(25.0, ...</td>\n",
       "      <td>None</td>\n",
       "      <td>18.7382</td>\n",
       "      <td>lsqr</td>\n",
       "      <td>87.802578</td>\n",
       "      <td>0.048584</td>\n",
       "      <td>87.807862</td>\n",
       "      <td>0.011801</td>\n",
       "    </tr>\n",
       "    <tr>\n",
       "      <th>44</th>\n",
       "      <td>RobustScaler(copy=True, quantile_range=(25.0, ...</td>\n",
       "      <td>None</td>\n",
       "      <td>16.681</td>\n",
       "      <td>lsqr</td>\n",
       "      <td>87.802577</td>\n",
       "      <td>0.048592</td>\n",
       "      <td>87.807863</td>\n",
       "      <td>0.011799</td>\n",
       "    </tr>\n",
       "    <tr>\n",
       "      <th>50</th>\n",
       "      <td>RobustScaler(copy=True, quantile_range=(25.0, ...</td>\n",
       "      <td>None</td>\n",
       "      <td>33.516</td>\n",
       "      <td>lsqr</td>\n",
       "      <td>87.802576</td>\n",
       "      <td>0.048524</td>\n",
       "      <td>87.807847</td>\n",
       "      <td>0.011809</td>\n",
       "    </tr>\n",
       "    <tr>\n",
       "      <th>43</th>\n",
       "      <td>RobustScaler(copy=True, quantile_range=(25.0, ...</td>\n",
       "      <td>None</td>\n",
       "      <td>14.8497</td>\n",
       "      <td>lsqr</td>\n",
       "      <td>87.802576</td>\n",
       "      <td>0.048599</td>\n",
       "      <td>87.807864</td>\n",
       "      <td>0.011798</td>\n",
       "    </tr>\n",
       "    <tr>\n",
       "      <th>42</th>\n",
       "      <td>RobustScaler(copy=True, quantile_range=(25.0, ...</td>\n",
       "      <td>None</td>\n",
       "      <td>13.2194</td>\n",
       "      <td>lsqr</td>\n",
       "      <td>87.802575</td>\n",
       "      <td>0.048606</td>\n",
       "      <td>87.807864</td>\n",
       "      <td>0.011797</td>\n",
       "    </tr>\n",
       "    <tr>\n",
       "      <th>41</th>\n",
       "      <td>RobustScaler(copy=True, quantile_range=(25.0, ...</td>\n",
       "      <td>None</td>\n",
       "      <td>11.7681</td>\n",
       "      <td>lsqr</td>\n",
       "      <td>87.802574</td>\n",
       "      <td>0.048613</td>\n",
       "      <td>87.807864</td>\n",
       "      <td>0.011797</td>\n",
       "    </tr>\n",
       "  </tbody>\n",
       "</table>\n",
       "</div>"
      ],
      "text/plain": [
       "                                         param_scaler param_pca param_model__alpha  \\\n",
       "47  RobustScaler(copy=True, quantile_range=(25.0, ...      None            23.6449   \n",
       "48  RobustScaler(copy=True, quantile_range=(25.0, ...      None            26.5609   \n",
       "46  RobustScaler(copy=True, quantile_range=(25.0, ...      None             21.049   \n",
       "49  RobustScaler(copy=True, quantile_range=(25.0, ...      None            29.8365   \n",
       "45  RobustScaler(copy=True, quantile_range=(25.0, ...      None            18.7382   \n",
       "44  RobustScaler(copy=True, quantile_range=(25.0, ...      None             16.681   \n",
       "50  RobustScaler(copy=True, quantile_range=(25.0, ...      None             33.516   \n",
       "43  RobustScaler(copy=True, quantile_range=(25.0, ...      None            14.8497   \n",
       "42  RobustScaler(copy=True, quantile_range=(25.0, ...      None            13.2194   \n",
       "41  RobustScaler(copy=True, quantile_range=(25.0, ...      None            11.7681   \n",
       "\n",
       "   param_model__solver  mean_test_score  std_test_score  mean_train_score  std_train_score  \n",
       "47                lsqr        87.802579        0.048563         87.807859         0.011804  \n",
       "48                lsqr        87.802579        0.048552         87.807856         0.011805  \n",
       "46                lsqr        87.802579        0.048574         87.807861         0.011802  \n",
       "49                lsqr        87.802578        0.048538         87.807853         0.011807  \n",
       "45                lsqr        87.802578        0.048584         87.807862         0.011801  \n",
       "44                lsqr        87.802577        0.048592         87.807863         0.011799  \n",
       "50                lsqr        87.802576        0.048524         87.807847         0.011809  \n",
       "43                lsqr        87.802576        0.048599         87.807864         0.011798  \n",
       "42                lsqr        87.802575        0.048606         87.807864         0.011797  \n",
       "41                lsqr        87.802574        0.048613         87.807864         0.011797  "
      ]
     },
     "execution_count": 9,
     "metadata": {},
     "output_type": "execute_result"
    }
   ],
   "source": [
    "# Build a dataframe from search.cv_results_\n",
    "grid_df=pd.DataFrame(grid_search.cv_results_)\n",
    "\n",
    "# Restrict to interesting columns\n",
    "cols = [f'param_{key}' for key in param_grid.keys()]\n",
    "cols+=['mean_test_score', 'std_test_score', 'mean_train_score', 'std_train_score']\n",
    "\n",
    "# Restrict to interesting columns\n",
    "grid_df=grid_df[cols]\n",
    "\n",
    "print(\"Best parameters found:\", grid_search.best_params_)\n",
    "print(\"10 best results:\")\n",
    "grid_df.sort_values('mean_test_score', ascending=False).head(10)\n"
   ]
  },
  {
   "cell_type": "markdown",
   "id": "b8fc10c0",
   "metadata": {},
   "source": [
    "### Graphical representation of results\n",
    "\n",
    "Here is a nice curve showing the role of hyperparameters tuning :-)"
   ]
  },
  {
   "cell_type": "code",
   "execution_count": 10,
   "id": "b7003f43",
   "metadata": {},
   "outputs": [
    {
     "data": {
      "image/png": "[encoded data removed]",
      "text/plain": [
       "<Figure size 1080x720 with 1 Axes>"
      ]
     },
     "metadata": {
      "needs_background": "light"
     },
     "output_type": "display_data"
    }
   ],
   "source": [
    "# Parameter name to plot\n",
    "MODEL_PARAM='alpha'\n",
    "\n",
    "# Plot train and validation curve\n",
    "results_df=grid_df.sort_values(f'param_model__{MODEL_PARAM}')\n",
    "\n",
    "plot_grid_search_results(results_df, x_param=f'param_model__{MODEL_PARAM}', semilogx=True, xlabel=MODEL_PARAM)"
   ]
  },
  {
   "cell_type": "markdown",
   "id": "da29684d",
   "metadata": {},
   "source": [
    "# Prediction\n",
    "\n",
    "Now that I've found the best parameters and get the best estimator via *GridSearchCV()*, let's calculate prediction score of this model."
   ]
  },
  {
   "cell_type": "code",
   "execution_count": 11,
   "id": "bf20f453",
   "metadata": {},
   "outputs": [
    {
     "name": "stdout",
     "output_type": "stream",
     "text": [
      "Ridge model mean absolute error         : 1.357 km/h\n",
      "Ridge model mean absolute percent error : 87.55 %\n"
     ]
    }
   ],
   "source": [
    "# Get best estimator from grid search and predict using X_va\n",
    "y_pred=grid_search.predict(X_va)\n",
    "\n",
    "# Get the MAE and MAPE from y_pred\n",
    "print(\"Ridge model mean absolute error         : {:.3f} km/h\".format(mae(y_pred, y_va)))\n",
    "print(\"Ridge model mean absolute percent error : {:.2f} %\".format(mape(y_pred, y_va)))\n"
   ]
  },
  {
   "cell_type": "markdown",
   "id": "4493c294",
   "metadata": {},
   "source": [
    "## Remark\n",
    "\n",
    "I suspect since the beginning of my work on data analysis that my dataset might have a bias.\n",
    "\n",
    "Looking at the y vector result, I can see that most of the travel are centered around 11 km/h.\n"
   ]
  },
  {
   "cell_type": "code",
   "execution_count": 12,
   "id": "31a39613",
   "metadata": {},
   "outputs": [
    {
     "data": {
      "image/png": "[encoded data removed]",
      "text/plain": [
       "<Figure size 720x432 with 1 Axes>"
      ]
     },
     "metadata": {
      "needs_background": "light"
     },
     "output_type": "display_data"
    }
   ],
   "source": [
    "plt.figure(figsize=(10,6))\n",
    "plt.hist(10**y_tr, bins=100)\n",
    "plt.title('Distribution of travel speed')\n",
    "plt.xlabel('speed in km/h')\n",
    "plt.show()"
   ]
  },
  {
   "cell_type": "markdown",
   "id": "0df9a219",
   "metadata": {},
   "source": [
    "Consequence of this dataset characteristics, the bias I suspect is that if you systematically predict a value around the average of travel speed, the same way *DummyRegressor* work, your prediction score would be not so bad.\n",
    "\n",
    "This can be confirmed by the score obtained by the *DummyRegressor()* on this dataset which reach 84%.\n"
   ]
  },
  {
   "cell_type": "markdown",
   "id": "107103a6",
   "metadata": {},
   "source": [
    "### Can we observe this bias ?\n",
    "\n",
    "Let's graph the prediction score of the *Ridge* model I've trained, splitted by groups of 5 km/h real value (the one taken from *y_va* vector): 5 to 10 km/h, 10 to 15 km/h, 15 to 20 km/h and so on...\n",
    "\n",
    "What I can observe is that score value is the highest in the 10 to 15 km/h interval, the one where most of the travels are, and score decrease when we get far from this optimal interval."
   ]
  },
  {
   "cell_type": "code",
   "execution_count": 13,
   "id": "bae8b662",
   "metadata": {},
   "outputs": [
    {
     "data": {
      "image/png": "[encoded data removed]",
      "text/plain": [
       "<Figure size 1080x720 with 1 Axes>"
      ]
     },
     "metadata": {
      "needs_background": "light"
     },
     "output_type": "display_data"
    }
   ],
   "source": [
    "# Draw graph using function from my_utils library\n",
    "df=pd.DataFrame({'y': y_va, 'y_pred': y_pred})\n",
    "draw_mape_per_speed_interval(df,columns=['y_pred'])"
   ]
  },
  {
   "cell_type": "markdown",
   "id": "8c8378ae",
   "metadata": {},
   "source": [
    "That's it, I was not so wrong with the travel speed bias.\n",
    "\n",
    "The previous graphs demonstrate that when speed is predicted between 10 to 15 km/h, the *Mean Average Percent Error* score is the best (more than 90%), and as long we get far from this value, the model prediction is going worst (a bit more than 80%)"
   ]
  },
  {
   "cell_type": "markdown",
   "id": "9b2cef84",
   "metadata": {},
   "source": [
    "# Save model\n",
    "\n",
    "> Note: The model saved here is the *GridSearchCV* object as when I will reload it, I want to be sure that any pre-processing step like scaling will be applied when computing predictions."
   ]
  },
  {
   "cell_type": "code",
   "execution_count": 14,
   "id": "c327f281",
   "metadata": {},
   "outputs": [
    {
     "name": "stdout",
     "output_type": "stream",
     "text": [
      "Saving model ridge to ./data/model-ridge.sav using 'pickle' library\n"
     ]
    }
   ],
   "source": [
    "save_model(grid_search, 'ridge')"
   ]
  },
  {
   "cell_type": "markdown",
   "id": "86c1712b",
   "metadata": {},
   "source": [
    "# What about PCA ? \n",
    "\n",
    "We'seen in the [Principal Component Analysis](22.Principal%20Component%20Analysis.ipynb) notebook that most of the variance (90%) could be explained using nearly half of the features.\n",
    "\n",
    "Let's run the same grid search as above twice, first run adding a *PCA(0.9)* step to the *Pipeline* and second run adding a *PCA(0.8)* step, and compare the prediction of the best estimators for those two runs with the result obtain without *PCA()*.\n"
   ]
  },
  {
   "cell_type": "markdown",
   "id": "4b5acd24",
   "metadata": {},
   "source": [
    "## GridSearch with PCA(0.9)\n",
    "\n",
    "Set *PCA(0.9)* to the *pcas* grid search parameter and rerun the search process."
   ]
  },
  {
   "cell_type": "code",
   "execution_count": 15,
   "id": "2c48aec4",
   "metadata": {},
   "outputs": [
    {
     "name": "stdout",
     "output_type": "stream",
     "text": [
      "Fitting 5 folds for each of 100 candidates, totalling 500 fits\n"
     ]
    },
    {
     "name": "stderr",
     "output_type": "stream",
     "text": [
      "[Parallel(n_jobs=-1)]: Using backend LokyBackend with 8 concurrent workers.\n",
      "[Parallel(n_jobs=-1)]: Done  34 tasks      | elapsed:   22.4s\n",
      "[Parallel(n_jobs=-1)]: Done 184 tasks      | elapsed:  1.6min\n",
      "[Parallel(n_jobs=-1)]: Done 434 tasks      | elapsed:  3.8min\n",
      "[Parallel(n_jobs=-1)]: Done 500 out of 500 | elapsed:  4.5min finished\n"
     ]
    },
    {
     "data": {
      "text/plain": [
       "GridSearchCV(cv=5, error_score='raise-deprecating',\n",
       "       estimator=Pipeline(memory=None,\n",
       "     steps=[('scaler', StandardScaler(copy=True, with_mean=True, with_std=True)), ('pca', PCA(copy=True, iterated_power='auto', n_components=None, random_state=None,\n",
       "  svd_solver='auto', tol=0.0, whiten=False)), ('model', Ridge(alpha=1.0, copy_X=True, fit_intercept=True, max_iter=None,\n",
       "   normalize=False, random_state=None, solver='auto', tol=0.001))]),\n",
       "       fit_params=None, iid='warn', n_jobs=-1,\n",
       "       param_grid={'scaler': [RobustScaler(copy=True, quantile_range=(25.0, 75.0), with_centering=True,\n",
       "       with_scaling=True)], 'pca': [PCA(copy=True, iterated_power='auto', n_components=0.9, random_state=None,\n",
       "  svd_solver='auto', tol=0.0, whiten=False)], 'model__alpha': array([1.00000e-01, 1.12332e-01, ..., 8.90215e+03, 1.00000e+04]), 'model__solver': ['lsqr']},\n",
       "       pre_dispatch='2*n_jobs', refit=True, return_train_score=True,\n",
       "       scoring=None, verbose=1)"
      ]
     },
     "execution_count": 15,
     "metadata": {},
     "output_type": "execute_result"
    }
   ],
   "source": [
    "# Set pca grid param to PCA(0.9)\n",
    "param_grid['pca']=[PCA(0.9)]\n",
    "\n",
    "# Initialize GridSearchCV object. Note that return_train_score=True\n",
    "pca_90_grid_search = GridSearchCV(pipe, param_grid, n_jobs=-1, cv=5, verbose=1, return_train_score=True)\n",
    "\n",
    "# Do the grid search\n",
    "pca_90_grid_search.fit(X_tr, y_tr)\n"
   ]
  },
  {
   "cell_type": "code",
   "execution_count": 16,
   "id": "ceb7665b",
   "metadata": {},
   "outputs": [
    {
     "name": "stdout",
     "output_type": "stream",
     "text": [
      "Ridge model with PCA(0.9) mean absolute error         : 1.373 km/h\n",
      "Ridge model with PCA(0.9) mean absolute percent error : 87.05 %\n"
     ]
    }
   ],
   "source": [
    "# Get best estimator from grid search and predict using X_va\n",
    "pca_90_y_pred=pca_90_grid_search.predict(X_va)\n",
    "\n",
    "# Get the MAE and MAPE from y_pred\n",
    "print(\"Ridge model with PCA(0.9) mean absolute error         : {:.3f} km/h\".format(mae(pca_90_y_pred, y_va)))\n",
    "print(\"Ridge model with PCA(0.9) mean absolute percent error : {:.2f} %\".format(mape(pca_90_y_pred, y_va)))"
   ]
  },
  {
   "cell_type": "markdown",
   "id": "183e51a0",
   "metadata": {},
   "source": [
    "## GridSearch with PCA(0.8)"
   ]
  },
  {
   "cell_type": "markdown",
   "id": "95f16456",
   "metadata": {},
   "source": [
    "Let's redo the same grid search using *PCA(0.8)*."
   ]
  },
  {
   "cell_type": "code",
   "execution_count": 17,
   "id": "e4aae3d5",
   "metadata": {},
   "outputs": [
    {
     "name": "stdout",
     "output_type": "stream",
     "text": [
      "Fitting 5 folds for each of 100 candidates, totalling 500 fits\n"
     ]
    },
    {
     "name": "stderr",
     "output_type": "stream",
     "text": [
      "[Parallel(n_jobs=-1)]: Using backend LokyBackend with 8 concurrent workers.\n",
      "[Parallel(n_jobs=-1)]: Done  34 tasks      | elapsed:   14.9s\n",
      "[Parallel(n_jobs=-1)]: Done 184 tasks      | elapsed:  1.6min\n",
      "[Parallel(n_jobs=-1)]: Done 434 tasks      | elapsed:  3.7min\n",
      "[Parallel(n_jobs=-1)]: Done 500 out of 500 | elapsed:  4.3min finished\n"
     ]
    },
    {
     "data": {
      "text/plain": [
       "GridSearchCV(cv=5, error_score='raise-deprecating',\n",
       "       estimator=Pipeline(memory=None,\n",
       "     steps=[('scaler', StandardScaler(copy=True, with_mean=True, with_std=True)), ('pca', PCA(copy=True, iterated_power='auto', n_components=None, random_state=None,\n",
       "  svd_solver='auto', tol=0.0, whiten=False)), ('model', Ridge(alpha=1.0, copy_X=True, fit_intercept=True, max_iter=None,\n",
       "   normalize=False, random_state=None, solver='auto', tol=0.001))]),\n",
       "       fit_params=None, iid='warn', n_jobs=-1,\n",
       "       param_grid={'scaler': [RobustScaler(copy=True, quantile_range=(25.0, 75.0), with_centering=True,\n",
       "       with_scaling=True)], 'pca': [PCA(copy=True, iterated_power='auto', n_components=0.8, random_state=None,\n",
       "  svd_solver='auto', tol=0.0, whiten=False)], 'model__alpha': array([1.00000e-01, 1.12332e-01, ..., 8.90215e+03, 1.00000e+04]), 'model__solver': ['lsqr']},\n",
       "       pre_dispatch='2*n_jobs', refit=True, return_train_score=True,\n",
       "       scoring=None, verbose=1)"
      ]
     },
     "execution_count": 17,
     "metadata": {},
     "output_type": "execute_result"
    }
   ],
   "source": [
    "# Set pca grid param to PCA(0.8)\n",
    "param_grid['pca']=[PCA(0.8)]\n",
    "\n",
    "# Initialize GridSearchCV object. Note that return_train_score=True\n",
    "pca_80_grid_search = GridSearchCV(pipe, param_grid, n_jobs=-1, cv=5, verbose=1, return_train_score=True)\n",
    "\n",
    "# Do the grid search\n",
    "pca_80_grid_search.fit(X_tr, y_tr)\n"
   ]
  },
  {
   "cell_type": "code",
   "execution_count": 18,
   "id": "3ebb02a6",
   "metadata": {},
   "outputs": [
    {
     "name": "stdout",
     "output_type": "stream",
     "text": [
      "Ridge model with PCA(0.8) mean absolute error         : 1.386 km/h\n",
      "Ridge model with PCA(0.8) mean absolute percent error : 86.67 %\n"
     ]
    }
   ],
   "source": [
    "# Get best estimator from grid search and predict using X_va\n",
    "pca_80_y_pred=pca_80_grid_search.predict(X_va)\n",
    "\n",
    "# Get the MAE and MAPE from y_pred\n",
    "print(\"Ridge model with PCA(0.8) mean absolute error         : {:.3f} km/h\".format(mae(pca_80_y_pred, y_va)))\n",
    "print(\"Ridge model with PCA(0.8) mean absolute percent error : {:.2f} %\".format(mape(pca_80_y_pred, y_va)))"
   ]
  },
  {
   "cell_type": "markdown",
   "id": "db215d6e",
   "metadata": {},
   "source": [
    "## Compare results\n",
    "\n",
    "The bar graph below represents the model performance obtained with different *PCA()* configuration."
   ]
  },
  {
   "cell_type": "code",
   "execution_count": 19,
   "id": "31f512e4",
   "metadata": {},
   "outputs": [
    {
     "data": {
      "image/png": "[encoded data removed]",
      "text/plain": [
       "<Figure size 1080x360 with 1 Axes>"
      ]
     },
     "metadata": {
      "needs_background": "light"
     },
     "output_type": "display_data"
    }
   ],
   "source": [
    "df=pd.DataFrame({\n",
    "    'pca': [0,1,2],\n",
    "    'prediction': [mape(y_pred, y_va), mape(pca_90_y_pred, y_va), mape(pca_80_y_pred, y_va)]\n",
    "})\n",
    "plt.figure(figsize=(15,5))\n",
    "plt.bar(df['pca'], df['prediction'], width=0.5)\n",
    "\n",
    "for i in df['prediction']:\n",
    "    plt.axhline(y=i, color='grey', linestyle='--')\n",
    "\n",
    "plt.xticks(ticks=[0,1,2], labels=['No PCA', 'PCA(0.9)', 'PCA(0.8)'])\n",
    "plt.xlabel(\"PCA grid search setting\")\n",
    "\n",
    "plt.ylim(85, 88)\n",
    "plt.ylabel(\"Performance (%)\")\n",
    "\n",
    "plt.title(\"Model performance with or without PCA\")\n",
    "plt.show()\n"
   ]
  },
  {
   "cell_type": "markdown",
   "id": "7ef20381",
   "metadata": {},
   "source": [
    "Compared to the result we've obtained without PCA, conclusion is that using PCA reduction does not perform so bad, but a bit lower than without PCA.\n"
   ]
  },
  {
   "cell_type": "markdown",
   "id": "ea769e21",
   "metadata": {},
   "source": [
    "## Save model with PCA(0.9) and PCA(0.8)"
   ]
  },
  {
   "cell_type": "code",
   "execution_count": 20,
   "id": "a0481524",
   "metadata": {},
   "outputs": [
    {
     "name": "stdout",
     "output_type": "stream",
     "text": [
      "Saving model ridge-pca90 to ./data/model-ridge-pca90.sav using 'pickle' library\n"
     ]
    }
   ],
   "source": [
    "save_model(pca_90_grid_search, 'ridge-pca90')"
   ]
  },
  {
   "cell_type": "code",
   "execution_count": 21,
   "id": "23b0b7e9",
   "metadata": {},
   "outputs": [
    {
     "name": "stdout",
     "output_type": "stream",
     "text": [
      "Saving model ridge-pca80 to ./data/model-ridge-pca80.sav using 'pickle' library\n"
     ]
    }
   ],
   "source": [
    "save_model(pca_80_grid_search, 'ridge-pca80')"
   ]
  },
  {
   "cell_type": "markdown",
   "id": "f392d21c",
   "metadata": {},
   "source": [
    "## Time to go to the next model\n",
    "\n",
    "A distance based one, the [KNeighborsRegressor](32.Distance%20Based%20-%20KNeighborsRegressor.ipynb)"
   ]
  }
 ],
 "metadata": {
  "kernelspec": {
   "display_name": "Python 3",
   "language": "python",
   "name": "python3"
  },
  "language_info": {
   "codemirror_mode": {
    "name": "ipython",
    "version": 3
   },
   "file_extension": ".py",
   "mimetype": "text/x-python",
   "name": "python",
   "nbconvert_exporter": "python",
   "pygments_lexer": "ipython3",
   "version": "3.6.13"
  }
 },
 "nbformat": 4,
 "nbformat_minor": 5
}
