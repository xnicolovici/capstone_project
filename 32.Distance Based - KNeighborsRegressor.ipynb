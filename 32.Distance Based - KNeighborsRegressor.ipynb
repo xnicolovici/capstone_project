{
 "cells": [
  {
   "cell_type": "markdown",
   "id": "6bbfb8e4",
   "metadata": {},
   "source": [
    "\n",
    "Let's start playing with a Distance based ML model, [KNeighborsRegressor](https://scikit-learn.org/stable/modules/generated/sklearn.neighbors.KNeighborsRegressor.html#sklearn.neighbors.KNeighborsRegressor)\n",
    "\n",
    "This kind of model tries to predict a value by averaging the nearest kneighbors of the value we are looking for. That's why we call them *Distance Based*.\n",
    "\n",
    "Same remark as the one done with Gradient Descent based model, I should use a scaler to normalize my dataset before fitting the model.\n",
    "\n",
    "I've choosen to tune two of its parameters:\n",
    "\n",
    "- The n_neighbors parameter, an int setting the number of kneighbors to search to predict value\n",
    "\n",
    "- The p parameter to define the *distance* calculation algorythm that could be either p=1 for *manhattan* algorythm, p=2 for *euclidian* one.\n",
    "\n",
    "Let's start by loading [my_utils](my_utils.ipynb) and other usefull libraries."
   ]
  },
  {
   "cell_type": "code",
   "execution_count": 1,
   "id": "76cd6846",
   "metadata": {},
   "outputs": [
    {
     "name": "stdout",
     "output_type": "stream",
     "text": [
      "Opening connection to database\n",
      "Add pythagore() function to SQLite engine\n",
      "Fraction of the dataset used to train models: 10.00%\n",
      "my_utils library loaded :-)\n"
     ]
    }
   ],
   "source": [
    "# Load my_utils.ipynb in Notebook\n",
    "from ipynb.fs.full.my_utils import *"
   ]
  },
  {
   "cell_type": "markdown",
   "id": "24ba36be",
   "metadata": {},
   "source": [
    "# Import libraries\n"
   ]
  },
  {
   "cell_type": "code",
   "execution_count": 2,
   "id": "b3194c13",
   "metadata": {},
   "outputs": [],
   "source": [
    "# Scalers\n",
    "from sklearn.preprocessing import MinMaxScaler\n",
    "from sklearn.preprocessing import StandardScaler\n",
    "\n",
    "# PCA\n",
    "from sklearn.decomposition import PCA\n",
    "\n",
    "# Grid Search\n",
    "from sklearn.model_selection import RandomizedSearchCV\n",
    "from sklearn.model_selection import GridSearchCV\n",
    "from sklearn.pipeline import Pipeline\n",
    "\n",
    "# KNeighbors regressor Model\n",
    "from sklearn.neighbors import KNeighborsRegressor"
   ]
  },
  {
   "cell_type": "markdown",
   "id": "f3e59d46",
   "metadata": {},
   "source": [
    "# Load train/valid data\n",
    "Nothing special here, use the *loadXy()* function to load train/valid X and y datasets."
   ]
  },
  {
   "cell_type": "code",
   "execution_count": 3,
   "id": "cc1dba25",
   "metadata": {},
   "outputs": [],
   "source": [
    "# Load X and y\n",
    "X_tr, y_tr, X_va, y_va=load_Xy(frac=FRAC_VALUE_FOR_ML)\n"
   ]
  },
  {
   "cell_type": "markdown",
   "id": "2f3a84be",
   "metadata": {},
   "source": [
    "# GridSearch\n",
    "\n",
    "## Define pipeline and grid parameters\n",
    "\n",
    "Scaler and PCA will be configured in the Pipeline and managed as grid parameters:\n",
    "\n",
    "### Scaler\n",
    "\n",
    "- StandardScaler()\n",
    "\n",
    "- MinMaxScaler()\n",
    "\n",
    "### PCA\n",
    "\n",
    "- PCA(0.8)\n",
    "\n",
    "- PCA(0.9)\n",
    "\n",
    "- PCA(0.95)\n",
    "\n",
    "For both PCA ans Scaler, the grid search will be configured to let the search process to disable them (setting *None* as grid parameter)"
   ]
  },
  {
   "cell_type": "code",
   "execution_count": 4,
   "id": "0b0e5d4b",
   "metadata": {},
   "outputs": [],
   "source": [
    "# Define list of scaler used in grid search\n",
    "scalers=[StandardScaler(), MinMaxScaler(), None]\n",
    "\n",
    "# Define list of PCA reduction used in grid search\n",
    "pcas=[PCA(0.8), PCA(0.9), PCA(0.95), None]"
   ]
  },
  {
   "cell_type": "code",
   "execution_count": 5,
   "id": "aa5c9224",
   "metadata": {},
   "outputs": [],
   "source": [
    "# Initialize KNeighborsRegressor ML model\n",
    "model = KNeighborsRegressor()\n",
    "\n",
    "# Define pipeline with scaler, pca and model choosen\n",
    "pipe = Pipeline(steps=[\n",
    "    (\"scaler\", StandardScaler()),\n",
    "    (\"pca\", PCA()),\n",
    "    (\"model\", model),\n",
    "])\n",
    "\n",
    "# Define base grid search parameters\n",
    "param_grid = {\n",
    "    \"scaler\": scalers,\n",
    "    \"pca\": pcas\n",
    "}\n",
    "\n"
   ]
  },
  {
   "cell_type": "markdown",
   "id": "70986886",
   "metadata": {},
   "source": [
    "## RandomizedSearchCV with large parameters scope\n",
    "\n",
    "Start first with a *RandomizedSearchCV* on a very large scope of parameters, setting the number random iterations to 100.\n"
   ]
  },
  {
   "cell_type": "code",
   "execution_count": 6,
   "id": "a59dcd41",
   "metadata": {},
   "outputs": [
    {
     "name": "stdout",
     "output_type": "stream",
     "text": [
      "Fitting 5 folds for each of 100 candidates, totalling 500 fits\n"
     ]
    },
    {
     "name": "stderr",
     "output_type": "stream",
     "text": [
      "[Parallel(n_jobs=-1)]: Using backend LokyBackend with 12 concurrent workers.\n",
      "[Parallel(n_jobs=-1)]: Done  26 tasks      | elapsed: 20.4min\n",
      "[Parallel(n_jobs=-1)]: Done 176 tasks      | elapsed: 91.3min\n",
      "[Parallel(n_jobs=-1)]: Done 426 tasks      | elapsed: 390.9min\n",
      "[Parallel(n_jobs=-1)]: Done 500 out of 500 | elapsed: 460.8min finished\n"
     ]
    },
    {
     "data": {
      "text/plain": [
       "RandomizedSearchCV(cv=5, error_score='raise-deprecating',\n",
       "          estimator=Pipeline(memory=None,\n",
       "     steps=[('scaler', StandardScaler(copy=True, with_mean=True, with_std=True)), ('pca', PCA(copy=True, iterated_power='auto', n_components=None, random_state=None,\n",
       "  svd_solver='auto', tol=0.0, whiten=False)), ('model', KNeighborsRegressor(algorithm='auto', leaf_size=30, metric='minkowski',\n",
       "          metric_params=None, n_jobs=None, n_neighbors=5, p=2,\n",
       "          weights='uniform'))]),\n",
       "          fit_params=None, iid='warn', n_iter=100, n_jobs=-1,\n",
       "          param_distributions={'scaler': [StandardScaler(copy=True, with_mean=True, with_std=True), MinMaxScaler(copy=True, feature_range=(0, 1)), None], 'pca': [PCA(copy=True, iterated_power='auto', n_components=0.8, random_state=None,\n",
       "  svd_solver='auto', tol=0.0, whiten=False), PCA(copy=True, iterated_powe...80, 81, 82, 83, 84, 85, 86, 87, 88, 89, 90, 91, 92, 93, 94, 95, 96, 97, 98, 99], 'model__p': [1, 2]},\n",
       "          pre_dispatch='2*n_jobs', random_state=47, refit=True,\n",
       "          return_train_score=True, scoring=make_scorer(mape), verbose=1)"
      ]
     },
     "execution_count": 6,
     "metadata": {},
     "output_type": "execute_result"
    }
   ],
   "source": [
    "# Set specific model parameters to param_grid\n",
    "param_grid[\"model__n_neighbors\"]=[*range(1,100,1)]\n",
    "param_grid[\"model__p\"]=[1,2]\n",
    "\n",
    "# Number of random search iterations (the more the slower ;-) )\n",
    "ITERATIONS=100\n",
    "\n",
    "# Initialize RandomizedSearchCV object. Note that return_train_score=True\n",
    "random_search = RandomizedSearchCV(pipe,\n",
    "                                   param_grid,\n",
    "                                   n_iter=ITERATIONS,\n",
    "                                   scoring=custom_scorer,\n",
    "                                   random_state=RANDOM_STATE,\n",
    "                                   n_jobs=-1,\n",
    "                                   cv=5,\n",
    "                                   verbose=1,\n",
    "                                   return_train_score=True\n",
    "                                  )\n",
    "\n",
    "# Do the random hyperparameter tuning search\n",
    "random_search.fit(X_tr, y_tr)\n"
   ]
  },
  {
   "cell_type": "markdown",
   "id": "88fa5566",
   "metadata": {},
   "source": [
    "### Results\n",
    "\n",
    "Ok, randomized search now help me to determine wich parameter intervals I should focus on.\n"
   ]
  },
  {
   "cell_type": "code",
   "execution_count": 7,
   "id": "728f9213",
   "metadata": {},
   "outputs": [
    {
     "name": "stdout",
     "output_type": "stream",
     "text": [
      "Best parameters found: {'scaler': StandardScaler(copy=True, with_mean=True, with_std=True), 'pca': PCA(copy=True, iterated_power='auto', n_components=0.95, random_state=None,\n",
      "  svd_solver='auto', tol=0.0, whiten=False), 'model__p': 1, 'model__n_neighbors': 21}\n",
      "10 best results:\n"
     ]
    },
    {
     "data": {
      "text/html": [
       "<div>\n",
       "<style scoped>\n",
       "    .dataframe tbody tr th:only-of-type {\n",
       "        vertical-align: middle;\n",
       "    }\n",
       "\n",
       "    .dataframe tbody tr th {\n",
       "        vertical-align: top;\n",
       "    }\n",
       "\n",
       "    .dataframe thead th {\n",
       "        text-align: right;\n",
       "    }\n",
       "</style>\n",
       "<table border=\"1\" class=\"dataframe\">\n",
       "  <thead>\n",
       "    <tr style=\"text-align: right;\">\n",
       "      <th></th>\n",
       "      <th>param_scaler</th>\n",
       "      <th>param_pca</th>\n",
       "      <th>param_model__n_neighbors</th>\n",
       "      <th>param_model__p</th>\n",
       "      <th>mean_test_score</th>\n",
       "      <th>std_test_score</th>\n",
       "      <th>mean_train_score</th>\n",
       "      <th>std_train_score</th>\n",
       "    </tr>\n",
       "  </thead>\n",
       "  <tbody>\n",
       "    <tr>\n",
       "      <th>6</th>\n",
       "      <td>StandardScaler(copy=True, with_mean=True, with...</td>\n",
       "      <td>PCA(copy=True, iterated_power='auto', n_compon...</td>\n",
       "      <td>21</td>\n",
       "      <td>1</td>\n",
       "      <td>87.671666</td>\n",
       "      <td>0.046494</td>\n",
       "      <td>88.262933</td>\n",
       "      <td>0.017493</td>\n",
       "    </tr>\n",
       "    <tr>\n",
       "      <th>75</th>\n",
       "      <td>StandardScaler(copy=True, with_mean=True, with...</td>\n",
       "      <td>PCA(copy=True, iterated_power='auto', n_compon...</td>\n",
       "      <td>10</td>\n",
       "      <td>1</td>\n",
       "      <td>87.648695</td>\n",
       "      <td>0.045734</td>\n",
       "      <td>88.858427</td>\n",
       "      <td>0.015628</td>\n",
       "    </tr>\n",
       "    <tr>\n",
       "      <th>58</th>\n",
       "      <td>StandardScaler(copy=True, with_mean=True, with...</td>\n",
       "      <td>None</td>\n",
       "      <td>19</td>\n",
       "      <td>1</td>\n",
       "      <td>87.634064</td>\n",
       "      <td>0.054257</td>\n",
       "      <td>88.283751</td>\n",
       "      <td>0.015487</td>\n",
       "    </tr>\n",
       "    <tr>\n",
       "      <th>46</th>\n",
       "      <td>StandardScaler(copy=True, with_mean=True, with...</td>\n",
       "      <td>None</td>\n",
       "      <td>13</td>\n",
       "      <td>2</td>\n",
       "      <td>87.610582</td>\n",
       "      <td>0.056624</td>\n",
       "      <td>88.557870</td>\n",
       "      <td>0.015858</td>\n",
       "    </tr>\n",
       "    <tr>\n",
       "      <th>80</th>\n",
       "      <td>StandardScaler(copy=True, with_mean=True, with...</td>\n",
       "      <td>None</td>\n",
       "      <td>15</td>\n",
       "      <td>2</td>\n",
       "      <td>87.606463</td>\n",
       "      <td>0.051543</td>\n",
       "      <td>88.433153</td>\n",
       "      <td>0.016057</td>\n",
       "    </tr>\n",
       "    <tr>\n",
       "      <th>97</th>\n",
       "      <td>StandardScaler(copy=True, with_mean=True, with...</td>\n",
       "      <td>None</td>\n",
       "      <td>18</td>\n",
       "      <td>2</td>\n",
       "      <td>87.603257</td>\n",
       "      <td>0.038722</td>\n",
       "      <td>88.289314</td>\n",
       "      <td>0.013853</td>\n",
       "    </tr>\n",
       "    <tr>\n",
       "      <th>7</th>\n",
       "      <td>StandardScaler(copy=True, with_mean=True, with...</td>\n",
       "      <td>None</td>\n",
       "      <td>23</td>\n",
       "      <td>1</td>\n",
       "      <td>87.599111</td>\n",
       "      <td>0.047268</td>\n",
       "      <td>88.140216</td>\n",
       "      <td>0.012331</td>\n",
       "    </tr>\n",
       "    <tr>\n",
       "      <th>63</th>\n",
       "      <td>StandardScaler(copy=True, with_mean=True, with...</td>\n",
       "      <td>PCA(copy=True, iterated_power='auto', n_compon...</td>\n",
       "      <td>44</td>\n",
       "      <td>1</td>\n",
       "      <td>87.507065</td>\n",
       "      <td>0.032378</td>\n",
       "      <td>87.788879</td>\n",
       "      <td>0.018375</td>\n",
       "    </tr>\n",
       "    <tr>\n",
       "      <th>3</th>\n",
       "      <td>StandardScaler(copy=True, with_mean=True, with...</td>\n",
       "      <td>PCA(copy=True, iterated_power='auto', n_compon...</td>\n",
       "      <td>13</td>\n",
       "      <td>2</td>\n",
       "      <td>87.498386</td>\n",
       "      <td>0.048432</td>\n",
       "      <td>88.454352</td>\n",
       "      <td>0.022355</td>\n",
       "    </tr>\n",
       "    <tr>\n",
       "      <th>23</th>\n",
       "      <td>StandardScaler(copy=True, with_mean=True, with...</td>\n",
       "      <td>PCA(copy=True, iterated_power='auto', n_compon...</td>\n",
       "      <td>20</td>\n",
       "      <td>2</td>\n",
       "      <td>87.489737</td>\n",
       "      <td>0.046934</td>\n",
       "      <td>88.115284</td>\n",
       "      <td>0.025058</td>\n",
       "    </tr>\n",
       "  </tbody>\n",
       "</table>\n",
       "</div>"
      ],
      "text/plain": [
       "                                         param_scaler  \\\n",
       "6   StandardScaler(copy=True, with_mean=True, with...   \n",
       "75  StandardScaler(copy=True, with_mean=True, with...   \n",
       "58  StandardScaler(copy=True, with_mean=True, with...   \n",
       "46  StandardScaler(copy=True, with_mean=True, with...   \n",
       "80  StandardScaler(copy=True, with_mean=True, with...   \n",
       "97  StandardScaler(copy=True, with_mean=True, with...   \n",
       "7   StandardScaler(copy=True, with_mean=True, with...   \n",
       "63  StandardScaler(copy=True, with_mean=True, with...   \n",
       "3   StandardScaler(copy=True, with_mean=True, with...   \n",
       "23  StandardScaler(copy=True, with_mean=True, with...   \n",
       "\n",
       "                                            param_pca param_model__n_neighbors param_model__p  \\\n",
       "6   PCA(copy=True, iterated_power='auto', n_compon...                       21              1   \n",
       "75  PCA(copy=True, iterated_power='auto', n_compon...                       10              1   \n",
       "58                                               None                       19              1   \n",
       "46                                               None                       13              2   \n",
       "80                                               None                       15              2   \n",
       "97                                               None                       18              2   \n",
       "7                                                None                       23              1   \n",
       "63  PCA(copy=True, iterated_power='auto', n_compon...                       44              1   \n",
       "3   PCA(copy=True, iterated_power='auto', n_compon...                       13              2   \n",
       "23  PCA(copy=True, iterated_power='auto', n_compon...                       20              2   \n",
       "\n",
       "    mean_test_score  std_test_score  mean_train_score  std_train_score  \n",
       "6         87.671666        0.046494         88.262933         0.017493  \n",
       "75        87.648695        0.045734         88.858427         0.015628  \n",
       "58        87.634064        0.054257         88.283751         0.015487  \n",
       "46        87.610582        0.056624         88.557870         0.015858  \n",
       "80        87.606463        0.051543         88.433153         0.016057  \n",
       "97        87.603257        0.038722         88.289314         0.013853  \n",
       "7         87.599111        0.047268         88.140216         0.012331  \n",
       "63        87.507065        0.032378         87.788879         0.018375  \n",
       "3         87.498386        0.048432         88.454352         0.022355  \n",
       "23        87.489737        0.046934         88.115284         0.025058  "
      ]
     },
     "execution_count": 7,
     "metadata": {},
     "output_type": "execute_result"
    }
   ],
   "source": [
    "# Build a dataframe from search.cv_results_\n",
    "random_df=pd.DataFrame(random_search.cv_results_)\n",
    "\n",
    "# Restrict to interesting columns\n",
    "cols = [f'param_{key}' for key in param_grid.keys()]\n",
    "cols+=['mean_test_score', 'std_test_score', 'mean_train_score', 'std_train_score']\n",
    "random_df=random_df[cols]\n",
    "\n",
    "# Print result\n",
    "print(\"Best parameters found:\", random_search.best_params_)\n",
    "print(\"10 best results:\")\n",
    "random_df.sort_values('mean_test_score', ascending=False).head(10)\n",
    "\n"
   ]
  },
  {
   "cell_type": "markdown",
   "id": "d7df4f0e",
   "metadata": {},
   "source": [
    "### What can I do according to the above results ?\n",
    "\n",
    "- PCA\n",
    "\n",
    "Top most results have been obtained with a PCA component reduction of 95%, I will use this in the next grid search.\n",
    "\n",
    "- Scaler\n",
    "\n",
    "StandardScaler is the only one present in the Top10 results. I'll include it in my next grid search as well.\n",
    "\n",
    "- N-Neighbors\n",
    "\n",
    "Best number of neighbors seems to be somewhere between 10 and 50. I'll use the (10,50) interval in the grid search.\n",
    "\n",
    "- P parameters\n",
    "\n",
    "Difficult to say, it seems that this parameter has no influence. Let keep the two values in the grid search.\n"
   ]
  },
  {
   "cell_type": "markdown",
   "id": "87f718cb",
   "metadata": {},
   "source": [
    "## GridSearchCV on more precise parameter intervals\n",
    "\n",
    "Build and run a *GridSearchCV* with reduced parameter scope, setting scaler to *StandardScaler()* and pca to *PCA(0.95)*"
   ]
  },
  {
   "cell_type": "code",
   "execution_count": 17,
   "id": "b7f7ce61",
   "metadata": {},
   "outputs": [
    {
     "name": "stdout",
     "output_type": "stream",
     "text": [
      "Fitting 5 folds for each of 40 candidates, totalling 200 fits\n"
     ]
    },
    {
     "name": "stderr",
     "output_type": "stream",
     "text": [
      "[Parallel(n_jobs=-1)]: Using backend LokyBackend with 12 concurrent workers.\n",
      "[Parallel(n_jobs=-1)]: Done  26 tasks      | elapsed: 27.4min\n",
      "[Parallel(n_jobs=-1)]: Done 176 tasks      | elapsed: 216.9min\n",
      "[Parallel(n_jobs=-1)]: Done 200 out of 200 | elapsed: 250.1min finished\n"
     ]
    },
    {
     "data": {
      "text/plain": [
       "GridSearchCV(cv=5, error_score='raise-deprecating',\n",
       "       estimator=Pipeline(memory=None,\n",
       "     steps=[('scaler', StandardScaler(copy=True, with_mean=True, with_std=True)), ('pca', PCA(copy=True, iterated_power='auto', n_components=None, random_state=None,\n",
       "  svd_solver='auto', tol=0.0, whiten=False)), ('model', KNeighborsRegressor(algorithm='auto', leaf_size=30, metric='minkowski',\n",
       "          metric_params=None, n_jobs=None, n_neighbors=5, p=2,\n",
       "          weights='uniform'))]),\n",
       "       fit_params=None, iid='warn', n_jobs=-1,\n",
       "       param_grid={'scaler': [StandardScaler(copy=True, with_mean=True, with_std=True)], 'pca': [PCA(copy=True, iterated_power='auto', n_components=0.95, random_state=None,\n",
       "  svd_solver='auto', tol=0.0, whiten=False)], 'model__n_neighbors': [10, 12, 14, 16, 18, 20, 22, 24, 26, 28, 30, 32, 34, 36, 38, 40, 42, 44, 46, 48], 'model__p': [1, 2]},\n",
       "       pre_dispatch='2*n_jobs', refit=True, return_train_score=True,\n",
       "       scoring=make_scorer(mape), verbose=1)"
      ]
     },
     "execution_count": 17,
     "metadata": {},
     "output_type": "execute_result"
    }
   ],
   "source": [
    "# Set specific model parameters to param_grid\n",
    "param_grid[\"model__n_neighbors\"]=[*range(10,50,2)]\n",
    "param_grid[\"model__p\"]=[1,2]\n",
    "\n",
    "param_grid['scaler']=[StandardScaler()]\n",
    "param_grid['pca']=[PCA(0.95)]\n",
    "\n",
    "\n",
    "# Initialize GridSearchCV object. Note that return_train_score=True\n",
    "grid_search = GridSearchCV(pipe,\n",
    "                           param_grid,\n",
    "                           scoring=custom_scorer,\n",
    "                           n_jobs=-1,\n",
    "                           cv=5,\n",
    "                           verbose=1,\n",
    "                           return_train_score=True\n",
    "                          )\n",
    "\n",
    "# Do the grid search\n",
    "grid_search.fit(X_tr, y_tr)\n"
   ]
  },
  {
   "cell_type": "markdown",
   "id": "4dd4a81f",
   "metadata": {},
   "source": [
    "#### Results"
   ]
  },
  {
   "cell_type": "code",
   "execution_count": 18,
   "id": "7e6b8564",
   "metadata": {},
   "outputs": [
    {
     "name": "stdout",
     "output_type": "stream",
     "text": [
      "Best parameters found: {'model__n_neighbors': 14, 'model__p': 1, 'pca': PCA(copy=True, iterated_power='auto', n_components=0.95, random_state=None,\n",
      "  svd_solver='auto', tol=0.0, whiten=False), 'scaler': StandardScaler(copy=True, with_mean=True, with_std=True)}\n",
      "10 best results:\n"
     ]
    },
    {
     "data": {
      "text/html": [
       "<div>\n",
       "<style scoped>\n",
       "    .dataframe tbody tr th:only-of-type {\n",
       "        vertical-align: middle;\n",
       "    }\n",
       "\n",
       "    .dataframe tbody tr th {\n",
       "        vertical-align: top;\n",
       "    }\n",
       "\n",
       "    .dataframe thead th {\n",
       "        text-align: right;\n",
       "    }\n",
       "</style>\n",
       "<table border=\"1\" class=\"dataframe\">\n",
       "  <thead>\n",
       "    <tr style=\"text-align: right;\">\n",
       "      <th></th>\n",
       "      <th>param_scaler</th>\n",
       "      <th>param_pca</th>\n",
       "      <th>param_model__n_neighbors</th>\n",
       "      <th>param_model__p</th>\n",
       "      <th>mean_test_score</th>\n",
       "      <th>std_test_score</th>\n",
       "      <th>mean_train_score</th>\n",
       "      <th>std_train_score</th>\n",
       "    </tr>\n",
       "  </thead>\n",
       "  <tbody>\n",
       "    <tr>\n",
       "      <th>4</th>\n",
       "      <td>StandardScaler(copy=True, with_mean=True, with...</td>\n",
       "      <td>PCA(copy=True, iterated_power='auto', n_compon...</td>\n",
       "      <td>14</td>\n",
       "      <td>1</td>\n",
       "      <td>87.697129</td>\n",
       "      <td>0.052080</td>\n",
       "      <td>88.567213</td>\n",
       "      <td>0.016650</td>\n",
       "    </tr>\n",
       "    <tr>\n",
       "      <th>6</th>\n",
       "      <td>StandardScaler(copy=True, with_mean=True, with...</td>\n",
       "      <td>PCA(copy=True, iterated_power='auto', n_compon...</td>\n",
       "      <td>16</td>\n",
       "      <td>1</td>\n",
       "      <td>87.696306</td>\n",
       "      <td>0.052513</td>\n",
       "      <td>88.461889</td>\n",
       "      <td>0.017180</td>\n",
       "    </tr>\n",
       "    <tr>\n",
       "      <th>8</th>\n",
       "      <td>StandardScaler(copy=True, with_mean=True, with...</td>\n",
       "      <td>PCA(copy=True, iterated_power='auto', n_compon...</td>\n",
       "      <td>18</td>\n",
       "      <td>1</td>\n",
       "      <td>87.688607</td>\n",
       "      <td>0.050257</td>\n",
       "      <td>88.373981</td>\n",
       "      <td>0.015038</td>\n",
       "    </tr>\n",
       "    <tr>\n",
       "      <th>2</th>\n",
       "      <td>StandardScaler(copy=True, with_mean=True, with...</td>\n",
       "      <td>PCA(copy=True, iterated_power='auto', n_compon...</td>\n",
       "      <td>12</td>\n",
       "      <td>1</td>\n",
       "      <td>87.683434</td>\n",
       "      <td>0.052239</td>\n",
       "      <td>88.696442</td>\n",
       "      <td>0.015346</td>\n",
       "    </tr>\n",
       "    <tr>\n",
       "      <th>10</th>\n",
       "      <td>StandardScaler(copy=True, with_mean=True, with...</td>\n",
       "      <td>PCA(copy=True, iterated_power='auto', n_compon...</td>\n",
       "      <td>20</td>\n",
       "      <td>1</td>\n",
       "      <td>87.679413</td>\n",
       "      <td>0.046802</td>\n",
       "      <td>88.296879</td>\n",
       "      <td>0.016829</td>\n",
       "    </tr>\n",
       "    <tr>\n",
       "      <th>12</th>\n",
       "      <td>StandardScaler(copy=True, with_mean=True, with...</td>\n",
       "      <td>PCA(copy=True, iterated_power='auto', n_compon...</td>\n",
       "      <td>22</td>\n",
       "      <td>1</td>\n",
       "      <td>87.667389</td>\n",
       "      <td>0.043576</td>\n",
       "      <td>88.230195</td>\n",
       "      <td>0.017581</td>\n",
       "    </tr>\n",
       "    <tr>\n",
       "      <th>14</th>\n",
       "      <td>StandardScaler(copy=True, with_mean=True, with...</td>\n",
       "      <td>PCA(copy=True, iterated_power='auto', n_compon...</td>\n",
       "      <td>24</td>\n",
       "      <td>1</td>\n",
       "      <td>87.655984</td>\n",
       "      <td>0.038663</td>\n",
       "      <td>88.170379</td>\n",
       "      <td>0.016243</td>\n",
       "    </tr>\n",
       "    <tr>\n",
       "      <th>0</th>\n",
       "      <td>StandardScaler(copy=True, with_mean=True, with...</td>\n",
       "      <td>PCA(copy=True, iterated_power='auto', n_compon...</td>\n",
       "      <td>10</td>\n",
       "      <td>1</td>\n",
       "      <td>87.648695</td>\n",
       "      <td>0.045734</td>\n",
       "      <td>88.858427</td>\n",
       "      <td>0.015628</td>\n",
       "    </tr>\n",
       "    <tr>\n",
       "      <th>16</th>\n",
       "      <td>StandardScaler(copy=True, with_mean=True, with...</td>\n",
       "      <td>PCA(copy=True, iterated_power='auto', n_compon...</td>\n",
       "      <td>26</td>\n",
       "      <td>1</td>\n",
       "      <td>87.640310</td>\n",
       "      <td>0.037013</td>\n",
       "      <td>88.117353</td>\n",
       "      <td>0.015237</td>\n",
       "    </tr>\n",
       "    <tr>\n",
       "      <th>7</th>\n",
       "      <td>StandardScaler(copy=True, with_mean=True, with...</td>\n",
       "      <td>PCA(copy=True, iterated_power='auto', n_compon...</td>\n",
       "      <td>16</td>\n",
       "      <td>2</td>\n",
       "      <td>87.633300</td>\n",
       "      <td>0.038349</td>\n",
       "      <td>88.403426</td>\n",
       "      <td>0.014975</td>\n",
       "    </tr>\n",
       "  </tbody>\n",
       "</table>\n",
       "</div>"
      ],
      "text/plain": [
       "                                         param_scaler  \\\n",
       "4   StandardScaler(copy=True, with_mean=True, with...   \n",
       "6   StandardScaler(copy=True, with_mean=True, with...   \n",
       "8   StandardScaler(copy=True, with_mean=True, with...   \n",
       "2   StandardScaler(copy=True, with_mean=True, with...   \n",
       "10  StandardScaler(copy=True, with_mean=True, with...   \n",
       "12  StandardScaler(copy=True, with_mean=True, with...   \n",
       "14  StandardScaler(copy=True, with_mean=True, with...   \n",
       "0   StandardScaler(copy=True, with_mean=True, with...   \n",
       "16  StandardScaler(copy=True, with_mean=True, with...   \n",
       "7   StandardScaler(copy=True, with_mean=True, with...   \n",
       "\n",
       "                                            param_pca param_model__n_neighbors param_model__p  \\\n",
       "4   PCA(copy=True, iterated_power='auto', n_compon...                       14              1   \n",
       "6   PCA(copy=True, iterated_power='auto', n_compon...                       16              1   \n",
       "8   PCA(copy=True, iterated_power='auto', n_compon...                       18              1   \n",
       "2   PCA(copy=True, iterated_power='auto', n_compon...                       12              1   \n",
       "10  PCA(copy=True, iterated_power='auto', n_compon...                       20              1   \n",
       "12  PCA(copy=True, iterated_power='auto', n_compon...                       22              1   \n",
       "14  PCA(copy=True, iterated_power='auto', n_compon...                       24              1   \n",
       "0   PCA(copy=True, iterated_power='auto', n_compon...                       10              1   \n",
       "16  PCA(copy=True, iterated_power='auto', n_compon...                       26              1   \n",
       "7   PCA(copy=True, iterated_power='auto', n_compon...                       16              2   \n",
       "\n",
       "    mean_test_score  std_test_score  mean_train_score  std_train_score  \n",
       "4         87.697129        0.052080         88.567213         0.016650  \n",
       "6         87.696306        0.052513         88.461889         0.017180  \n",
       "8         87.688607        0.050257         88.373981         0.015038  \n",
       "2         87.683434        0.052239         88.696442         0.015346  \n",
       "10        87.679413        0.046802         88.296879         0.016829  \n",
       "12        87.667389        0.043576         88.230195         0.017581  \n",
       "14        87.655984        0.038663         88.170379         0.016243  \n",
       "0         87.648695        0.045734         88.858427         0.015628  \n",
       "16        87.640310        0.037013         88.117353         0.015237  \n",
       "7         87.633300        0.038349         88.403426         0.014975  "
      ]
     },
     "execution_count": 18,
     "metadata": {},
     "output_type": "execute_result"
    }
   ],
   "source": [
    "# Build a dataframe from search.cv_results_\n",
    "grid_df=pd.DataFrame(grid_search.cv_results_)\n",
    "\n",
    "# Restrict to interesting columns\n",
    "cols = [f'param_{key}' for key in param_grid.keys()]\n",
    "cols+=['mean_test_score', 'std_test_score', 'mean_train_score', 'std_train_score']\n",
    "\n",
    "# Restrict to interesting columns\n",
    "grid_df=grid_df[cols]\n",
    "\n",
    "print(\"Best parameters found:\", grid_search.best_params_)\n",
    "print(\"10 best results:\")\n",
    "grid_df.sort_values('mean_test_score', ascending=False).head(10)\n"
   ]
  },
  {
   "cell_type": "markdown",
   "id": "84ef017d",
   "metadata": {},
   "source": [
    "### Graphical representation of results\n",
    "\n",
    "In the following graph, we can see the effect of the grid search with two varying parameters: *n_neighbors* and *p*.\n",
    "\n",
    "As the graph represent the performance of train/validation set for each combination of *n_neighbors*/*p* valuesused by the grid search, the *spikes* we can observe represent the alternance between 1 and 2 of the *p* parameter."
   ]
  },
  {
   "cell_type": "code",
   "execution_count": 19,
   "id": "caf62526",
   "metadata": {},
   "outputs": [
    {
     "data": {
      "image/png": "[encoded data removed]",
      "text/plain": [
       "<Figure size 1080x720 with 1 Axes>"
      ]
     },
     "metadata": {
      "needs_background": "light"
     },
     "output_type": "display_data"
    }
   ],
   "source": [
    "# Parameter name to plot\n",
    "MODEL_PARAM='n_neighbors'\n",
    "\n",
    "# Plot train and validation curve\n",
    "results_df=grid_df.sort_values(f'param_model__{MODEL_PARAM}')\n",
    "\n",
    "plot_grid_search_results(results_df, x_param=f'param_model__{MODEL_PARAM}', semilogx=False, xlabel=MODEL_PARAM, std_factor=0)"
   ]
  },
  {
   "cell_type": "markdown",
   "id": "081fea36",
   "metadata": {},
   "source": [
    "### Graphical representation with p=1 only\n",
    "\n",
    "Results of the previous grid search indicates that p=1 is the best choice.\n",
    "\n",
    "Here is the same graph as above filtered on values where *p* parameter equals 1."
   ]
  },
  {
   "cell_type": "code",
   "execution_count": 20,
   "id": "37ec4411",
   "metadata": {},
   "outputs": [
    {
     "data": {
      "image/png": "[encoded data removed]",
      "text/plain": [
       "<Figure size 1080x720 with 1 Axes>"
      ]
     },
     "metadata": {
      "needs_background": "light"
     },
     "output_type": "display_data"
    }
   ],
   "source": [
    "# Parameter name to plot\n",
    "MODEL_PARAM='n_neighbors'\n",
    "\n",
    "# Filter data point on p=P_VALUE\n",
    "P_VALUE=1\n",
    "\n",
    "# Plot train and validation curve\n",
    "results_df=grid_df[grid_df['param_model__p'] == P_VALUE].sort_values(f'param_model__{MODEL_PARAM}')\n",
    "\n",
    "plot_grid_search_results(results_df, x_param=f'param_model__{MODEL_PARAM}', semilogx=False, xlabel=MODEL_PARAM, std_factor=0,\n",
    "                         title='GridSearch result P=1')"
   ]
  },
  {
   "cell_type": "markdown",
   "id": "ad9d2e2c",
   "metadata": {},
   "source": [
    "# Prediction\n",
    "\n",
    "Ok, now that we've found the best parameters and get the best estimator via *GridSearchCV()*, let's calculate the *mean_absolute_error* in km/h and %"
   ]
  },
  {
   "cell_type": "code",
   "execution_count": 21,
   "id": "8042f618",
   "metadata": {},
   "outputs": [
    {
     "name": "stdout",
     "output_type": "stream",
     "text": [
      "KNeighborsRegressor model mean absolute error         : 1.354 km/h\n",
      "KNeighborsRegressor model mean absolute percent error : 87.62 %\n"
     ]
    }
   ],
   "source": [
    "# Get best estimator from grid search and predict using X_va\n",
    "y_pred=grid_search.predict(X_va)\n",
    "\n",
    "# Get the MAE from y_pred\n",
    "print(\"KNeighborsRegressor model mean absolute error         : {:.3f} km/h\".format(mae(y_pred, y_va)))\n",
    "print(\"KNeighborsRegressor model mean absolute percent error : {:.2f} %\".format(mape(y_pred, y_va)))\n",
    "\n",
    "\n"
   ]
  },
  {
   "cell_type": "markdown",
   "id": "6cb6aced",
   "metadata": {},
   "source": [
    "# Save model\n"
   ]
  },
  {
   "cell_type": "code",
   "execution_count": 22,
   "id": "fcff75f8",
   "metadata": {},
   "outputs": [
    {
     "name": "stdout",
     "output_type": "stream",
     "text": [
      "Saving model kneighbors to ./data/model-kneighbors.sav using 'pickle' library\n"
     ]
    }
   ],
   "source": [
    "save_model(grid_search, 'kneighbors')"
   ]
  },
  {
   "cell_type": "markdown",
   "id": "542bf97c",
   "metadata": {},
   "source": [
    "# What results could we expect if we reduce the size of training dataset ?\n",
    "\n",
    "The previous grid search has been done with 10% of the original dataset and took a quite huge of computation time. The question now would be:\n",
    "\n",
    "- What results do I get if I reduce dataset size to speed up computing time ?\n",
    "\n",
    "Size of the training dataset have a direct effect on model prediction scores. To illustrate, I will redo a grid search using reduced size of the training dataset and compare results.\n",
    "\n",
    "> Note: I will fix the *p* paramter to 1 and *n_neighbours* to (10,50) interval to limit computing time"
   ]
  },
  {
   "cell_type": "markdown",
   "id": "029598ba",
   "metadata": {},
   "source": [
    "## Train models with different training dataset size\n",
    "\n",
    "Training dataset fraction that will be selected to train model are:\n",
    "\n",
    "- 0.05%\n",
    "- 0.1%\n",
    "- 0.5%\n",
    "- 1%\n",
    "- 2%\n",
    "- 5%"
   ]
  },
  {
   "cell_type": "code",
   "execution_count": 53,
   "id": "746fe3ef",
   "metadata": {},
   "outputs": [
    {
     "name": "stdout",
     "output_type": "stream",
     "text": [
      "Training dataset fraction used: 0.05%\n",
      "Number of lines in training dataset: 570\n",
      "Fitting 5 folds for each of 20 candidates, totalling 100 fits\n"
     ]
    },
    {
     "name": "stderr",
     "output_type": "stream",
     "text": [
      "[Parallel(n_jobs=-1)]: Using backend LokyBackend with 8 concurrent workers.\n",
      "[Parallel(n_jobs=-1)]: Done  34 tasks      | elapsed:    4.3s\n",
      "[Parallel(n_jobs=-1)]: Done 100 out of 100 | elapsed:    4.7s finished\n"
     ]
    },
    {
     "name": "stdout",
     "output_type": "stream",
     "text": [
      "KNeighborsRegressor MAPE : 86.05 %\n",
      "\n",
      "Training dataset fraction used: 0.1%\n",
      "Number of lines in training dataset: 1140\n",
      "Fitting 5 folds for each of 20 candidates, totalling 100 fits\n"
     ]
    },
    {
     "name": "stderr",
     "output_type": "stream",
     "text": [
      "[Parallel(n_jobs=-1)]: Using backend LokyBackend with 8 concurrent workers.\n",
      "[Parallel(n_jobs=-1)]: Done 100 out of 100 | elapsed:    1.2s finished\n"
     ]
    },
    {
     "name": "stdout",
     "output_type": "stream",
     "text": [
      "KNeighborsRegressor MAPE : 85.86 %\n",
      "\n",
      "Training dataset fraction used: 0.5%\n",
      "Number of lines in training dataset: 5705\n",
      "Fitting 5 folds for each of 20 candidates, totalling 100 fits\n"
     ]
    },
    {
     "name": "stderr",
     "output_type": "stream",
     "text": [
      "[Parallel(n_jobs=-1)]: Using backend LokyBackend with 8 concurrent workers.\n",
      "[Parallel(n_jobs=-1)]: Done  34 tasks      | elapsed:    7.7s\n",
      "[Parallel(n_jobs=-1)]: Done 100 out of 100 | elapsed:   20.8s finished\n"
     ]
    },
    {
     "name": "stdout",
     "output_type": "stream",
     "text": [
      "KNeighborsRegressor MAPE : 86.32 %\n",
      "\n",
      "Training dataset fraction used: 1%\n",
      "Number of lines in training dataset: 11411\n",
      "Fitting 5 folds for each of 20 candidates, totalling 100 fits\n"
     ]
    },
    {
     "name": "stderr",
     "output_type": "stream",
     "text": [
      "[Parallel(n_jobs=-1)]: Using backend LokyBackend with 8 concurrent workers.\n",
      "[Parallel(n_jobs=-1)]: Done  34 tasks      | elapsed:   33.6s\n",
      "[Parallel(n_jobs=-1)]: Done 100 out of 100 | elapsed:  1.5min finished\n"
     ]
    },
    {
     "name": "stdout",
     "output_type": "stream",
     "text": [
      "KNeighborsRegressor MAPE : 86.24 %\n",
      "\n",
      "Training dataset fraction used: 2%\n",
      "Number of lines in training dataset: 22822\n",
      "Fitting 5 folds for each of 20 candidates, totalling 100 fits\n"
     ]
    },
    {
     "name": "stderr",
     "output_type": "stream",
     "text": [
      "[Parallel(n_jobs=-1)]: Using backend LokyBackend with 8 concurrent workers.\n",
      "[Parallel(n_jobs=-1)]: Done  34 tasks      | elapsed:  3.3min\n",
      "[Parallel(n_jobs=-1)]: Done 100 out of 100 | elapsed:  9.0min finished\n"
     ]
    },
    {
     "name": "stdout",
     "output_type": "stream",
     "text": [
      "KNeighborsRegressor MAPE : 86.89 %\n",
      "\n",
      "Training dataset fraction used: 5%\n",
      "Number of lines in training dataset: 57056\n",
      "Fitting 5 folds for each of 20 candidates, totalling 100 fits\n"
     ]
    },
    {
     "name": "stderr",
     "output_type": "stream",
     "text": [
      "[Parallel(n_jobs=-1)]: Using backend LokyBackend with 8 concurrent workers.\n",
      "[Parallel(n_jobs=-1)]: Done  34 tasks      | elapsed: 20.5min\n",
      "[Parallel(n_jobs=-1)]: Done 100 out of 100 | elapsed: 61.9min finished\n"
     ]
    },
    {
     "name": "stdout",
     "output_type": "stream",
     "text": [
      "KNeighborsRegressor MAPE : 87.28 %\n",
      "\n"
     ]
    }
   ],
   "source": [
    "# Set specific model parameters to param_grid\n",
    "param_grid[\"model__n_neighbors\"]=[*range(10,50,2)]\n",
    "param_grid[\"model__p\"]=[1]\n",
    "param_grid['scaler']=[StandardScaler()]\n",
    "param_grid['pca']=[PCA(0.95)]\n",
    "\n",
    "# Size of training dataset to test\n",
    "size_to_train=[0.05, 0.1, 0.5, 1, 2, 5]\n",
    "\n",
    "# All mape calulated will be store in this list\n",
    "mape_y_pred=[]\n",
    "\n",
    "for size in size_to_train:\n",
    "\n",
    "    print(\"Training dataset fraction used: {}%\".format(size))\n",
    "    \n",
    "    # Load X and y\n",
    "    X_tr, y_tr, X_va, y_va=load_Xy(frac=size/100)\n",
    "    print(\"Number of lines in training dataset:\", X_tr.shape[0])\n",
    "\n",
    "    # Initialize GridSearchCV object. Note that return_train_score=True\n",
    "    reduced_grid_search = GridSearchCV(pipe,\n",
    "                                       param_grid,\n",
    "                                       scoring=custom_scorer,\n",
    "                                       n_jobs=-1,\n",
    "                                       cv=5,\n",
    "                                       verbose=1,\n",
    "                                       return_train_score=True,\n",
    "                                       iid=True\n",
    "                                      )\n",
    "\n",
    "    # Do the grid search\n",
    "    reduced_grid_search.fit(X_tr, y_tr)\n",
    "\n",
    "    # Get best estimator from grid search and predict using X_va\n",
    "    reduced_y_pred=reduced_grid_search.predict(X_va)\n",
    "    \n",
    "    # Evaluate preformance\n",
    "    reduced_mape=mape(reduced_y_pred, y_va)\n",
    "    \n",
    "    # Add result to global variable\n",
    "    mape_y_pred.append(reduced_mape)\n",
    "\n",
    "    # Get the MAPE from reduced_y_pred\n",
    "    print(\"KNeighborsRegressor MAPE : {:.2f} %\\n\".format(reduced_mape))\n",
    "    \n"
   ]
  },
  {
   "cell_type": "markdown",
   "id": "b3df92f2",
   "metadata": {},
   "source": [
    "## Display performance results per training dataset size"
   ]
  },
  {
   "cell_type": "code",
   "execution_count": 75,
   "id": "40782fed",
   "metadata": {},
   "outputs": [
    {
     "data": {
      "image/png": "[encoded data removed]",
      "text/plain": [
       "<Figure size 1080x360 with 1 Axes>"
      ]
     },
     "metadata": {
      "needs_background": "light"
     },
     "output_type": "display_data"
    }
   ],
   "source": [
    "\n",
    "# Append the performance obtained previously with 10% of training dataset\n",
    "y_results=mape_y_pred.copy()\n",
    "y_results.append(87.62)\n",
    "\n",
    "# Define xticks for bar plt\n",
    "x_ticks=list(range(len(y_results)))\n",
    "\n",
    "# Define x_labels\n",
    "x_labels=size_to_train.copy()\n",
    "x_labels.append(10)\n",
    "\n",
    "# Define dataset to be plotted\n",
    "df=pd.DataFrame({\n",
    "    'size': x_ticks,\n",
    "    'prediction': y_results\n",
    "})\n",
    "\n",
    "# Set figure size\n",
    "plt.figure(figsize=(15,5))\n",
    "\n",
    "# Plot bar graph using dataset values\n",
    "plt.bar(df['size'], df['prediction'], width=0.5, label='Score')\n",
    "    \n",
    "# Draw line of the performance obtained previously with 10% of training dataset\n",
    "plt.axhline(y=87.62, color='green', label='Score with 10% of training dataset')\n",
    "\n",
    "# Draw a degree=2 poly reg. to show trend\n",
    "poly = np.poly1d(np.polyfit(x_ticks, df['prediction'], 2))\n",
    "plt.plot(np.linspace(x_ticks[0], x_ticks[-1]), poly(new_x), color='red', label='Score result trend')\n",
    "\n",
    "# Set X & Y axis properties\n",
    "plt.xticks(ticks=x_ticks, labels=x_labels)\n",
    "plt.xlabel(\"Portion of training dataset size in %\")\n",
    "plt.ylim(85, 88)\n",
    "plt.ylabel(\"Performance (%)\")\n",
    "\n",
    "# Add legend\n",
    "plt.legend()\n",
    "\n",
    "# Set title\n",
    "plt.title(\"Model performance depending on training dataset size\")\n",
    "\n",
    "# Display graph\n",
    "plt.show()\n",
    "\n"
   ]
  },
  {
   "cell_type": "markdown",
   "id": "e2207c32",
   "metadata": {},
   "source": [
    "Without doubt, the more data in the training set, the better the prediction score is.\n",
    "\n",
    "On the other size, when the training dataset is very small, the results obtained vary a lot, small datasets might perform well compared to a bigger one (see 0.05% and 0.1% scores). This can be explained by the fact that reduced training dataset parts are built using random functions. With small portion of it, the probability to have representative train/test values decrease and lead to random results.\n",
    "\n",
    "Anyway, small dataset even if they demonstrate some noises in prediction, are unable to beat biggest one. All of the previous score are beyond the one obtained with 10% of the *full* training dataset.\n"
   ]
  },
  {
   "cell_type": "markdown",
   "id": "770ffa19",
   "metadata": {},
   "source": [
    "# Time to go to the next model\n",
    "\n",
    "A distance based one, the [RandomForestRegressor](33.Category%20Based%20-%20RandomForestRegressor.ipynb)"
   ]
  }
 ],
 "metadata": {
  "kernelspec": {
   "display_name": "Python 3",
   "language": "python",
   "name": "python3"
  },
  "language_info": {
   "codemirror_mode": {
    "name": "ipython",
    "version": 3
   },
   "file_extension": ".py",
   "mimetype": "text/x-python",
   "name": "python",
   "nbconvert_exporter": "python",
   "pygments_lexer": "ipython3",
   "version": "3.6.13"
  }
 },
 "nbformat": 4,
 "nbformat_minor": 5
}
